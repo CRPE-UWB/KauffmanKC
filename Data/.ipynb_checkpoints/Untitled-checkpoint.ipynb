{
 "cells": [
  {
   "cell_type": "markdown",
   "metadata": {},
   "source": [
    "# Missouri Data Preperation Tutorial\n",
    "Jose Hernandez  \n",
    "10/10/2016   \n",
    "CRPE   \n",
    "\n",
    "### Note:\n",
    "This is for illustration and teaching purposes."
   ]
  },
  {
   "cell_type": "code",
   "execution_count": 1,
   "metadata": {
    "collapsed": false
   },
   "outputs": [],
   "source": [
    "rm(list=ls())\n",
    "suppressMessages(library(dplyr))"
   ]
  },
  {
   "cell_type": "markdown",
   "metadata": {},
   "source": [
    "#### Load the Data"
   ]
  },
  {
   "cell_type": "code",
   "execution_count": 2,
   "metadata": {
    "collapsed": true
   },
   "outputs": [],
   "source": [
    "file <- \"~/Google Drive/CRPE/KauffmanKC/Data/MAP_School_Final.csv\" \n",
    "data <- read.csv(file, header=TRUE,stringsAsFactors = F,fileEncoding=\"latin1\")"
   ]
  },
  {
   "cell_type": "code",
   "execution_count": 3,
   "metadata": {
    "collapsed": false
   },
   "outputs": [
    {
     "data": {
      "text/html": [
       "<ol class=list-inline>\n",
       "\t<li>'COUNTY_DISTRICT_SCHOOL_CODE'</li>\n",
       "\t<li>'COUNTY_DISTRICT'</li>\n",
       "\t<li>'DISTRICT_NAME'</li>\n",
       "\t<li>'SCHOOL_CODE_0001'</li>\n",
       "\t<li>'SCHOOL_NAME'</li>\n",
       "\t<li>'CATEGORY'</li>\n",
       "\t<li>'TYPE'</li>\n",
       "\t<li>'CONTENT_AREA'</li>\n",
       "\t<li>'GRADE_LEVEL'</li>\n",
       "\t<li>'YEAR'</li>\n",
       "\t<li>'ACCOUNTABLE'</li>\n",
       "\t<li>'PARTICIPANT'</li>\n",
       "\t<li>'REPORTABLE'</li>\n",
       "\t<li>'LEVEL_NOT_DETERMINED'</li>\n",
       "\t<li>'LEVEL_NOT_DETERMINED_PCT'</li>\n",
       "\t<li>'BELOW_BASIC'</li>\n",
       "\t<li>'BELOW_BASIC_PCT'</li>\n",
       "\t<li>'BASIC'</li>\n",
       "\t<li>'BASIC_PCT'</li>\n",
       "\t<li>'PROFICIENT'</li>\n",
       "\t<li>'PROFICIENT_PCT'</li>\n",
       "\t<li>'ADVANCED'</li>\n",
       "\t<li>'ADVANCED_PCT'</li>\n",
       "\t<li>'BOTTOM_TWO_LEVELS'</li>\n",
       "\t<li>'BOTTOM_TWO_LEVELS_PCT'</li>\n",
       "\t<li>'TOP_TWO_LEVELS'</li>\n",
       "\t<li>'TOP_TWO_LEVELS_PCT'</li>\n",
       "\t<li>'MAP_INDEX'</li>\n",
       "\t<li>'MEAN_SCALE_SCORE'</li>\n",
       "\t<li>'MEDIAN_SCALE_SCORE'</li>\n",
       "\t<li>'MEDIAN_TERRANOVA'</li>\n",
       "</ol>\n"
      ],
      "text/latex": [
       "\\begin{enumerate*}\n",
       "\\item 'COUNTY\\_DISTRICT\\_SCHOOL\\_CODE'\n",
       "\\item 'COUNTY\\_DISTRICT'\n",
       "\\item 'DISTRICT\\_NAME'\n",
       "\\item 'SCHOOL\\_CODE\\_0001'\n",
       "\\item 'SCHOOL\\_NAME'\n",
       "\\item 'CATEGORY'\n",
       "\\item 'TYPE'\n",
       "\\item 'CONTENT\\_AREA'\n",
       "\\item 'GRADE\\_LEVEL'\n",
       "\\item 'YEAR'\n",
       "\\item 'ACCOUNTABLE'\n",
       "\\item 'PARTICIPANT'\n",
       "\\item 'REPORTABLE'\n",
       "\\item 'LEVEL\\_NOT\\_DETERMINED'\n",
       "\\item 'LEVEL\\_NOT\\_DETERMINED\\_PCT'\n",
       "\\item 'BELOW\\_BASIC'\n",
       "\\item 'BELOW\\_BASIC\\_PCT'\n",
       "\\item 'BASIC'\n",
       "\\item 'BASIC\\_PCT'\n",
       "\\item 'PROFICIENT'\n",
       "\\item 'PROFICIENT\\_PCT'\n",
       "\\item 'ADVANCED'\n",
       "\\item 'ADVANCED\\_PCT'\n",
       "\\item 'BOTTOM\\_TWO\\_LEVELS'\n",
       "\\item 'BOTTOM\\_TWO\\_LEVELS\\_PCT'\n",
       "\\item 'TOP\\_TWO\\_LEVELS'\n",
       "\\item 'TOP\\_TWO\\_LEVELS\\_PCT'\n",
       "\\item 'MAP\\_INDEX'\n",
       "\\item 'MEAN\\_SCALE\\_SCORE'\n",
       "\\item 'MEDIAN\\_SCALE\\_SCORE'\n",
       "\\item 'MEDIAN\\_TERRANOVA'\n",
       "\\end{enumerate*}\n"
      ],
      "text/markdown": [
       "1. 'COUNTY_DISTRICT_SCHOOL_CODE'\n",
       "2. 'COUNTY_DISTRICT'\n",
       "3. 'DISTRICT_NAME'\n",
       "4. 'SCHOOL_CODE_0001'\n",
       "5. 'SCHOOL_NAME'\n",
       "6. 'CATEGORY'\n",
       "7. 'TYPE'\n",
       "8. 'CONTENT_AREA'\n",
       "9. 'GRADE_LEVEL'\n",
       "10. 'YEAR'\n",
       "11. 'ACCOUNTABLE'\n",
       "12. 'PARTICIPANT'\n",
       "13. 'REPORTABLE'\n",
       "14. 'LEVEL_NOT_DETERMINED'\n",
       "15. 'LEVEL_NOT_DETERMINED_PCT'\n",
       "16. 'BELOW_BASIC'\n",
       "17. 'BELOW_BASIC_PCT'\n",
       "18. 'BASIC'\n",
       "19. 'BASIC_PCT'\n",
       "20. 'PROFICIENT'\n",
       "21. 'PROFICIENT_PCT'\n",
       "22. 'ADVANCED'\n",
       "23. 'ADVANCED_PCT'\n",
       "24. 'BOTTOM_TWO_LEVELS'\n",
       "25. 'BOTTOM_TWO_LEVELS_PCT'\n",
       "26. 'TOP_TWO_LEVELS'\n",
       "27. 'TOP_TWO_LEVELS_PCT'\n",
       "28. 'MAP_INDEX'\n",
       "29. 'MEAN_SCALE_SCORE'\n",
       "30. 'MEDIAN_SCALE_SCORE'\n",
       "31. 'MEDIAN_TERRANOVA'\n",
       "\n",
       "\n"
      ],
      "text/plain": [
       " [1] \"COUNTY_DISTRICT_SCHOOL_CODE\" \"COUNTY_DISTRICT\"            \n",
       " [3] \"DISTRICT_NAME\"               \"SCHOOL_CODE_0001\"           \n",
       " [5] \"SCHOOL_NAME\"                 \"CATEGORY\"                   \n",
       " [7] \"TYPE\"                        \"CONTENT_AREA\"               \n",
       " [9] \"GRADE_LEVEL\"                 \"YEAR\"                       \n",
       "[11] \"ACCOUNTABLE\"                 \"PARTICIPANT\"                \n",
       "[13] \"REPORTABLE\"                  \"LEVEL_NOT_DETERMINED\"       \n",
       "[15] \"LEVEL_NOT_DETERMINED_PCT\"    \"BELOW_BASIC\"                \n",
       "[17] \"BELOW_BASIC_PCT\"             \"BASIC\"                      \n",
       "[19] \"BASIC_PCT\"                   \"PROFICIENT\"                 \n",
       "[21] \"PROFICIENT_PCT\"              \"ADVANCED\"                   \n",
       "[23] \"ADVANCED_PCT\"                \"BOTTOM_TWO_LEVELS\"          \n",
       "[25] \"BOTTOM_TWO_LEVELS_PCT\"       \"TOP_TWO_LEVELS\"             \n",
       "[27] \"TOP_TWO_LEVELS_PCT\"          \"MAP_INDEX\"                  \n",
       "[29] \"MEAN_SCALE_SCORE\"            \"MEDIAN_SCALE_SCORE\"         \n",
       "[31] \"MEDIAN_TERRANOVA\"           "
      ]
     },
     "metadata": {},
     "output_type": "display_data"
    }
   ],
   "source": [
    "names(data)"
   ]
  },
  {
   "cell_type": "code",
   "execution_count": 4,
   "metadata": {
    "collapsed": false
   },
   "outputs": [
    {
     "data": {
      "text/plain": [
       " COUNTY_DISTRICT_SCHOOL_CODE COUNTY_DISTRICT  DISTRICT_NAME     \n",
       " Min.   :1.090e+07           Min.   :  1090   Length:141253     \n",
       " 1st Qu.:3.613e+08           1st Qu.: 36126   Class :character  \n",
       " Median :5.311e+08           Median : 53113   Mode  :character  \n",
       " Mean   :6.129e+08           Mean   : 61287                     \n",
       " 3rd Qu.:9.609e+08           3rd Qu.: 96088                     \n",
       " Max.   :4.014e+09           Max.   :401401                     \n",
       "                                                                \n",
       " SCHOOL_CODE_0001 SCHOOL_NAME          CATEGORY             TYPE          \n",
       " Min.   :1015     Length:141253      Length:141253      Length:141253     \n",
       " 1st Qu.:1050     Class :character   Class :character   Class :character  \n",
       " Median :4020     Mode  :character   Mode  :character   Mode  :character  \n",
       " Mean   :3132                                                             \n",
       " 3rd Qu.:4060                                                             \n",
       " Max.   :9990                                                             \n",
       "                                                                          \n",
       " CONTENT_AREA       GRADE_LEVEL             YEAR       ACCOUNTABLE    \n",
       " Length:141253      Length:141253      Min.   :2010   Min.   :  11.0  \n",
       " Class :character   Class :character   1st Qu.:2011   1st Qu.:  42.0  \n",
       " Mode  :character   Mode  :character   Median :2012   Median :  79.0  \n",
       "                                       Mean   :2012   Mean   : 137.4  \n",
       "                                       3rd Qu.:2013   3rd Qu.: 177.0  \n",
       "                                       Max.   :2014   Max.   :1583.0  \n",
       "                                                                      \n",
       "  PARTICIPANT       REPORTABLE     LEVEL_NOT_DETERMINED\n",
       " Min.   :  11.0   Min.   :  11.0   Min.   :  0.0000    \n",
       " 1st Qu.:  66.0   1st Qu.:  41.0   1st Qu.:  0.0000    \n",
       " Median : 139.0   Median :  77.0   Median :  0.0000    \n",
       " Mean   : 196.4   Mean   : 132.2   Mean   :  0.4595    \n",
       " 3rd Qu.: 252.0   3rd Qu.: 169.0   3rd Qu.:  0.0000    \n",
       " Max.   :1580.0   Max.   :1515.0   Max.   :185.0000    \n",
       " NA's   :76706                                         \n",
       " LEVEL_NOT_DETERMINED_PCT  BELOW_BASIC     BELOW_BASIC_PCT       BASIC       \n",
       " Min.   : 0.0000          Min.   :  0.00   Min.   :  0.000   Min.   :  0.00  \n",
       " 1st Qu.: 0.0000          1st Qu.:  2.00   1st Qu.:  3.000   1st Qu.: 15.00  \n",
       " Median : 0.0000          Median :  5.00   Median :  6.300   Median : 30.00  \n",
       " Mean   : 0.3249          Mean   : 11.44   Mean   :  9.465   Mean   : 48.53  \n",
       " 3rd Qu.: 0.0000          3rd Qu.: 13.00   3rd Qu.: 11.900   3rd Qu.: 64.00  \n",
       " Max.   :87.9000          Max.   :422.00   Max.   :100.000   Max.   :672.00  \n",
       "                                                                             \n",
       "   BASIC_PCT        PROFICIENT     PROFICIENT_PCT      ADVANCED     \n",
       " Min.   :  0.00   Min.   :  0.00   Min.   :  0.00   Min.   :  0.00  \n",
       " 1st Qu.: 29.80   1st Qu.: 13.00   1st Qu.: 28.40   1st Qu.:  4.00  \n",
       " Median : 39.10   Median : 27.00   Median : 36.30   Median : 10.00  \n",
       " Mean   : 39.02   Mean   : 49.06   Mean   : 35.62   Mean   : 23.17  \n",
       " 3rd Qu.: 48.20   3rd Qu.: 60.00   3rd Qu.: 43.60   3rd Qu.: 26.00  \n",
       " Max.   :100.00   Max.   :652.00   Max.   :100.00   Max.   :556.00  \n",
       "                                                                    \n",
       "  ADVANCED_PCT    BOTTOM_TWO_LEVELS BOTTOM_TWO_LEVELS_PCT TOP_TWO_LEVELS   \n",
       " Min.   :  0.00   Min.   :  0.00    Min.   :  0.00        Min.   :   0.00  \n",
       " 1st Qu.:  7.50   1st Qu.: 18.00    1st Qu.: 35.70        1st Qu.:  17.00  \n",
       " Median : 14.00   Median : 37.00    Median : 47.30        Median :  39.00  \n",
       " Mean   : 15.89   Mean   : 59.97    Mean   : 48.49        Mean   :  72.23  \n",
       " 3rd Qu.: 21.70   3rd Qu.: 77.00    3rd Qu.: 59.90        3rd Qu.:  85.00  \n",
       " Max.   :100.00   Max.   :980.00    Max.   :100.00        Max.   :1010.00  \n",
       "                                                                           \n",
       " TOP_TWO_LEVELS_PCT   MAP_INDEX     MEAN_SCALE_SCORE MEDIAN_SCALE_SCORE\n",
       " Min.   :  0.00     Min.   :100.0   Min.   :107.2    Min.   :100.0     \n",
       " 1st Qu.: 40.10     1st Qu.:330.5   1st Qu.:587.9    1st Qu.:591.0     \n",
       " Median : 52.70     Median :355.4   Median :655.4    Median :656.5     \n",
       " Mean   : 51.51     Mean   :349.5   Mean   :551.4    Mean   :552.3     \n",
       " 3rd Qu.: 64.30     3rd Qu.:377.0   3rd Qu.:679.1    3rd Qu.:680.0     \n",
       " Max.   :100.00     Max.   :500.0   Max.   :781.6    Max.   :783.0     \n",
       "                    NA's   :76706   NA's   :64547    NA's   :64547     \n",
       " MEDIAN_TERRANOVA\n",
       " Min.   : 3.00   \n",
       " 1st Qu.:54.00   \n",
       " Median :65.00   \n",
       " Mean   :62.72   \n",
       " 3rd Qu.:74.00   \n",
       " Max.   :99.00   \n",
       " NA's   :83471   "
      ]
     },
     "metadata": {},
     "output_type": "display_data"
    }
   ],
   "source": [
    "#summary of all the columns \n",
    "summary(data)"
   ]
  },
  {
   "cell_type": "markdown",
   "metadata": {},
   "source": [
    "Things look neormal i.e. numbers are numbers...   \n",
    "This Data has multiple categories by year, we want to issolate subject proficiency scores by school and year."
   ]
  },
  {
   "cell_type": "code",
   "execution_count": 5,
   "metadata": {
    "collapsed": false
   },
   "outputs": [
    {
     "data": {
      "text/plain": [
       "\n",
       " 2010  2011  2012  2013  2014 \n",
       "28514 28172 28160 28217 28190 "
      ]
     },
     "metadata": {},
     "output_type": "display_data"
    },
    {
     "data": {
      "text/plain": [
       "\n",
       "       MSIP5 Total MSIP5 Total wo EOC              Total \n",
       "             32402              32145              76706 "
      ]
     },
     "metadata": {},
     "output_type": "display_data"
    }
   ],
   "source": [
    "#look at the cases per year 2010-2014\n",
    "table(data$YEAR)\n",
    "#look at the subset categories FRL, subgroup, etc.\n",
    "table(data$CATEGORY)\n",
    "#We only want to look at school totals "
   ]
  },
  {
   "cell_type": "code",
   "execution_count": 6,
   "metadata": {
    "collapsed": true
   },
   "outputs": [],
   "source": [
    "data <- filter(data, CATEGORY == \"Total\")"
   ]
  },
  {
   "cell_type": "code",
   "execution_count": 7,
   "metadata": {
    "collapsed": false
   },
   "outputs": [
    {
     "data": {
      "text/html": [
       "<table>\n",
       "<thead><tr><th scope=col>COUNTY_DISTRICT_SCHOOL_CODE</th><th scope=col>COUNTY_DISTRICT</th><th scope=col>DISTRICT_NAME</th><th scope=col>SCHOOL_CODE_0001</th><th scope=col>SCHOOL_NAME</th><th scope=col>CATEGORY</th><th scope=col>TYPE</th><th scope=col>CONTENT_AREA</th><th scope=col>GRADE_LEVEL</th><th scope=col>YEAR</th><th scope=col>⋯</th><th scope=col>ADVANCED</th><th scope=col>ADVANCED_PCT</th><th scope=col>BOTTOM_TWO_LEVELS</th><th scope=col>BOTTOM_TWO_LEVELS_PCT</th><th scope=col>TOP_TWO_LEVELS</th><th scope=col>TOP_TWO_LEVELS_PCT</th><th scope=col>MAP_INDEX</th><th scope=col>MEAN_SCALE_SCORE</th><th scope=col>MEDIAN_SCALE_SCORE</th><th scope=col>MEDIAN_TERRANOVA</th></tr></thead>\n",
       "<tbody>\n",
       "\t<tr><td>10901050          </td><td>1090              </td><td>ADAIR CO. R-I     </td><td>1050              </td><td>ADAIR CO. HIGH    </td><td>Total             </td><td>Total             </td><td>Eng. Language Arts</td><td>7                 </td><td>2010              </td><td>⋯                 </td><td>0                 </td><td> 0.0              </td><td>17                </td><td>70.8              </td><td> 7                </td><td>29.2              </td><td>NA                </td><td>657.6             </td><td>663.5             </td><td>55.5              </td></tr>\n",
       "\t<tr><td>10901050          </td><td>1090              </td><td>ADAIR CO. R-I     </td><td>1050              </td><td>ADAIR CO. HIGH    </td><td>Total             </td><td>Total             </td><td>Eng. Language Arts</td><td>7                 </td><td>2011              </td><td>⋯                 </td><td>3                 </td><td>14.3              </td><td>10                </td><td>47.6              </td><td>11                </td><td>52.4              </td><td>NA                </td><td>680.5             </td><td>683.5             </td><td>68.5              </td></tr>\n",
       "\t<tr><td>10901050          </td><td>1090              </td><td>ADAIR CO. R-I     </td><td>1050              </td><td>ADAIR CO. HIGH    </td><td>Total             </td><td>Total             </td><td>Eng. Language Arts</td><td>7                 </td><td>2012              </td><td>⋯                 </td><td>2                 </td><td>11.1              </td><td>10                </td><td>55.6              </td><td> 8                </td><td>44.4              </td><td>NA                </td><td>674.1             </td><td>675.0             </td><td>65.0              </td></tr>\n",
       "\t<tr><td>10901050          </td><td>1090              </td><td>ADAIR CO. R-I     </td><td>1050              </td><td>ADAIR CO. HIGH    </td><td>Total             </td><td>Total             </td><td>Eng. Language Arts</td><td>7                 </td><td>2013              </td><td>⋯                 </td><td>4                 </td><td>25.0              </td><td> 8                </td><td>50.0              </td><td> 8                </td><td>50.0              </td><td>NA                </td><td>684.5             </td><td>680.0             </td><td>70.0              </td></tr>\n",
       "\t<tr><td>10901050          </td><td>1090              </td><td>ADAIR CO. R-I     </td><td>1050              </td><td>ADAIR CO. HIGH    </td><td>Total             </td><td>Total             </td><td>Eng. Language Arts</td><td>7                 </td><td>2014              </td><td>⋯                 </td><td>4                 </td><td>15.4              </td><td>10                </td><td>38.5              </td><td>16                </td><td>61.5              </td><td>NA                </td><td>684.1             </td><td>686.0             </td><td>70.0              </td></tr>\n",
       "\t<tr><td>10901050          </td><td>1090              </td><td>ADAIR CO. R-I     </td><td>1050              </td><td>ADAIR CO. HIGH    </td><td>Total             </td><td>Total             </td><td>Eng. Language Arts</td><td>8                 </td><td>2010              </td><td>⋯                 </td><td>2                 </td><td> 7.1              </td><td>14                </td><td>50.0              </td><td>14                </td><td>50.0              </td><td>NA                </td><td>691.3             </td><td>696.0             </td><td>61.5              </td></tr>\n",
       "</tbody>\n",
       "</table>\n"
      ],
      "text/latex": [
       "\\begin{tabular}{r|lllllllllllllllllllllllllllllll}\n",
       " COUNTY\\_DISTRICT\\_SCHOOL\\_CODE & COUNTY\\_DISTRICT & DISTRICT\\_NAME & SCHOOL\\_CODE\\_0001 & SCHOOL\\_NAME & CATEGORY & TYPE & CONTENT\\_AREA & GRADE\\_LEVEL & YEAR & ⋯ & ADVANCED & ADVANCED\\_PCT & BOTTOM\\_TWO\\_LEVELS & BOTTOM\\_TWO\\_LEVELS\\_PCT & TOP\\_TWO\\_LEVELS & TOP\\_TWO\\_LEVELS\\_PCT & MAP\\_INDEX & MEAN\\_SCALE\\_SCORE & MEDIAN\\_SCALE\\_SCORE & MEDIAN\\_TERRANOVA\\\\\n",
       "\\hline\n",
       "\t 10901050           & 1090               & ADAIR CO. R-I      & 1050               & ADAIR CO. HIGH     & Total              & Total              & Eng. Language Arts & 7                  & 2010               & ⋯                  & 0                  &  0.0               & 17                 & 70.8               &  7                 & 29.2               & NA                 & 657.6              & 663.5              & 55.5              \\\\\n",
       "\t 10901050           & 1090               & ADAIR CO. R-I      & 1050               & ADAIR CO. HIGH     & Total              & Total              & Eng. Language Arts & 7                  & 2011               & ⋯                  & 3                  & 14.3               & 10                 & 47.6               & 11                 & 52.4               & NA                 & 680.5              & 683.5              & 68.5              \\\\\n",
       "\t 10901050           & 1090               & ADAIR CO. R-I      & 1050               & ADAIR CO. HIGH     & Total              & Total              & Eng. Language Arts & 7                  & 2012               & ⋯                  & 2                  & 11.1               & 10                 & 55.6               &  8                 & 44.4               & NA                 & 674.1              & 675.0              & 65.0              \\\\\n",
       "\t 10901050           & 1090               & ADAIR CO. R-I      & 1050               & ADAIR CO. HIGH     & Total              & Total              & Eng. Language Arts & 7                  & 2013               & ⋯                  & 4                  & 25.0               &  8                 & 50.0               &  8                 & 50.0               & NA                 & 684.5              & 680.0              & 70.0              \\\\\n",
       "\t 10901050           & 1090               & ADAIR CO. R-I      & 1050               & ADAIR CO. HIGH     & Total              & Total              & Eng. Language Arts & 7                  & 2014               & ⋯                  & 4                  & 15.4               & 10                 & 38.5               & 16                 & 61.5               & NA                 & 684.1              & 686.0              & 70.0              \\\\\n",
       "\t 10901050           & 1090               & ADAIR CO. R-I      & 1050               & ADAIR CO. HIGH     & Total              & Total              & Eng. Language Arts & 8                  & 2010               & ⋯                  & 2                  &  7.1               & 14                 & 50.0               & 14                 & 50.0               & NA                 & 691.3              & 696.0              & 61.5              \\\\\n",
       "\\end{tabular}\n"
      ],
      "text/plain": [
       "  COUNTY_DISTRICT_SCHOOL_CODE COUNTY_DISTRICT DISTRICT_NAME SCHOOL_CODE_0001\n",
       "1 10901050                    1090            ADAIR CO. R-I 1050            \n",
       "2 10901050                    1090            ADAIR CO. R-I 1050            \n",
       "3 10901050                    1090            ADAIR CO. R-I 1050            \n",
       "4 10901050                    1090            ADAIR CO. R-I 1050            \n",
       "5 10901050                    1090            ADAIR CO. R-I 1050            \n",
       "6 10901050                    1090            ADAIR CO. R-I 1050            \n",
       "  SCHOOL_NAME    CATEGORY TYPE  CONTENT_AREA       GRADE_LEVEL YEAR ⋯ ADVANCED\n",
       "1 ADAIR CO. HIGH Total    Total Eng. Language Arts 7           2010 ⋯ 0       \n",
       "2 ADAIR CO. HIGH Total    Total Eng. Language Arts 7           2011 ⋯ 3       \n",
       "3 ADAIR CO. HIGH Total    Total Eng. Language Arts 7           2012 ⋯ 2       \n",
       "4 ADAIR CO. HIGH Total    Total Eng. Language Arts 7           2013 ⋯ 4       \n",
       "5 ADAIR CO. HIGH Total    Total Eng. Language Arts 7           2014 ⋯ 4       \n",
       "6 ADAIR CO. HIGH Total    Total Eng. Language Arts 8           2010 ⋯ 2       \n",
       "  ADVANCED_PCT BOTTOM_TWO_LEVELS BOTTOM_TWO_LEVELS_PCT TOP_TWO_LEVELS\n",
       "1  0.0         17                70.8                   7            \n",
       "2 14.3         10                47.6                  11            \n",
       "3 11.1         10                55.6                   8            \n",
       "4 25.0          8                50.0                   8            \n",
       "5 15.4         10                38.5                  16            \n",
       "6  7.1         14                50.0                  14            \n",
       "  TOP_TWO_LEVELS_PCT MAP_INDEX MEAN_SCALE_SCORE MEDIAN_SCALE_SCORE\n",
       "1 29.2               NA        657.6            663.5             \n",
       "2 52.4               NA        680.5            683.5             \n",
       "3 44.4               NA        674.1            675.0             \n",
       "4 50.0               NA        684.5            680.0             \n",
       "5 61.5               NA        684.1            686.0             \n",
       "6 50.0               NA        691.3            696.0             \n",
       "  MEDIAN_TERRANOVA\n",
       "1 55.5            \n",
       "2 68.5            \n",
       "3 65.0            \n",
       "4 70.0            \n",
       "5 70.0            \n",
       "6 61.5            "
      ]
     },
     "metadata": {},
     "output_type": "display_data"
    }
   ],
   "source": [
    "head(data)"
   ]
  },
  {
   "cell_type": "markdown",
   "metadata": {},
   "source": [
    "Notice that we have grade specific categories X Content_Area X Year for each school.  We want school specific categories X year.  We will need to aggregate the grade level infomration across proficiency categories.  "
   ]
  },
  {
   "cell_type": "code",
   "execution_count": 8,
   "metadata": {
    "collapsed": true
   },
   "outputs": [],
   "source": [
    "test1 <- data %>%\n",
    "  group_by(SCHOOL_CODE_0001,SCHOOL_NAME,CONTENT_AREA,YEAR) %>%\n",
    "  summarise(number = n(),\n",
    "            REPORTED = sum(REPORTABLE,na.rm=T))"
   ]
  },
  {
   "cell_type": "markdown",
   "metadata": {},
   "source": [
    "Let's test out aggregation using dplyr   \n",
    "I'm combining content areas by school   \n",
    "In the case where there are multiple grades of the content area I want to either:   \n",
    "1. Add the counts of students \n",
    "2. Average out the percentages (not ideal but can regain percentages from aggregate counts in this case)\n",
    "This is what the previous code did with \"REPORTABLE\" or the number of students that they can report took the test. "
   ]
  },
  {
   "cell_type": "code",
   "execution_count": 9,
   "metadata": {
    "collapsed": false
   },
   "outputs": [
    {
     "data": {
      "text/html": [
       "<table>\n",
       "<thead><tr><th scope=col>SCHOOL_CODE_0001</th><th scope=col>SCHOOL_NAME</th><th scope=col>CONTENT_AREA</th><th scope=col>YEAR</th><th scope=col>number</th><th scope=col>REPORTED</th></tr></thead>\n",
       "<tbody>\n",
       "\t<tr><td>1050              </td><td>ADAIR CO. HIGH    </td><td>Eng. Language Arts</td><td>2010              </td><td>8                 </td><td>169               </td></tr>\n",
       "</tbody>\n",
       "</table>\n"
      ],
      "text/latex": [
       "\\begin{tabular}{r|llllll}\n",
       " SCHOOL\\_CODE\\_0001 & SCHOOL\\_NAME & CONTENT\\_AREA & YEAR & number & REPORTED\\\\\n",
       "\\hline\n",
       "\t 1050               & ADAIR CO. HIGH     & Eng. Language Arts & 2010               & 8                  & 169               \\\\\n",
       "\\end{tabular}\n"
      ],
      "text/plain": [
       "  SCHOOL_CODE_0001 SCHOOL_NAME    CONTENT_AREA       YEAR number REPORTED\n",
       "1 1050             ADAIR CO. HIGH Eng. Language Arts 2010 8      169     "
      ]
     },
     "metadata": {},
     "output_type": "display_data"
    }
   ],
   "source": [
    "filter(test1, SCHOOL_NAME == 'ADAIR CO. HIGH' & CONTENT_AREA=='Eng. Language Arts' & YEAR == 2010)"
   ]
  },
  {
   "cell_type": "markdown",
   "metadata": {},
   "source": [
    "The \"number\" indicates the # of elements aggregated for this [school X subject X grade] and the variable \"REPORTED\"(I know not ideal) is the sum of the counts of students reported.  Let's see if this checks out."
   ]
  },
  {
   "cell_type": "code",
   "execution_count": 10,
   "metadata": {
    "collapsed": false
   },
   "outputs": [
    {
     "data": {
      "text/html": [
       "<ol class=list-inline>\n",
       "\t<li>24</li>\n",
       "\t<li>28</li>\n",
       "\t<li>17</li>\n",
       "\t<li>26</li>\n",
       "\t<li>17</li>\n",
       "\t<li>20</li>\n",
       "\t<li>17</li>\n",
       "\t<li>20</li>\n",
       "</ol>\n"
      ],
      "text/latex": [
       "\\begin{enumerate*}\n",
       "\\item 24\n",
       "\\item 28\n",
       "\\item 17\n",
       "\\item 26\n",
       "\\item 17\n",
       "\\item 20\n",
       "\\item 17\n",
       "\\item 20\n",
       "\\end{enumerate*}\n"
      ],
      "text/markdown": [
       "1. 24\n",
       "2. 28\n",
       "3. 17\n",
       "4. 26\n",
       "5. 17\n",
       "6. 20\n",
       "7. 17\n",
       "8. 20\n",
       "\n",
       "\n"
      ],
      "text/plain": [
       "[1] 24 28 17 26 17 20 17 20"
      ]
     },
     "metadata": {},
     "output_type": "display_data"
    }
   ],
   "source": [
    "#Filter the original data to give you that school and subject and display the counts that we aggregated\n",
    "test2 <- filter(data, SCHOOL_NAME == 'ADAIR CO. HIGH' & CONTENT_AREA=='Eng. Language Arts' & YEAR == 2010)\n",
    "\n",
    "test2$REPORTABLE"
   ]
  },
  {
   "cell_type": "code",
   "execution_count": 11,
   "metadata": {
    "collapsed": false
   },
   "outputs": [
    {
     "data": {
      "text/html": [
       "169"
      ],
      "text/latex": [
       "169"
      ],
      "text/markdown": [
       "169"
      ],
      "text/plain": [
       "[1] 169"
      ]
     },
     "metadata": {},
     "output_type": "display_data"
    }
   ],
   "source": [
    "24+28+17+26+17+20+17+20"
   ]
  },
  {
   "cell_type": "markdown",
   "metadata": {},
   "source": [
    "#### Victory!\n",
    "Let's do it for all the columns of interest."
   ]
  },
  {
   "cell_type": "code",
   "execution_count": 12,
   "metadata": {
    "collapsed": true
   },
   "outputs": [],
   "source": [
    "MO_data = data %>%\n",
    "            group_by(SCHOOL_CODE_0001,SCHOOL_NAME,CONTENT_AREA,YEAR) %>%\n",
    "              summarise(number = n(),\n",
    "              enrolled = sum(ACCOUNTABLE, na.rm=T), \n",
    "              participant = sum(PARTICIPANT, na.rm=T),                \n",
    "              reported = sum(REPORTABLE, na.rm=T),\n",
    "              level_unknown = sum(LEVEL_NOT_DETERMINED, na.rm=T),\n",
    "              level_unknown_pct = mean(LEVEL_NOT_DETERMINED_PCT, na.rm=T),   \n",
    "              below_basic = sum(BELOW_BASIC, na.rm=T),\n",
    "              below_basic_pct = mean(BELOW_BASIC_PCT, na.rm=T), \n",
    "              basic = sum(BASIC, na.rm=T),                      \n",
    "              basic_pct = mean(BASIC_PCT, na.rm=T),\n",
    "              proficent = sum(PROFICIENT, na.rm=T),\n",
    "              proficient_pct = mean(PROFICIENT_PCT, na.rm=T),             \n",
    "              advanced = sum(ADVANCED, na.rm=T),\n",
    "              advanced_pct = mean(ADVANCED_PCT, na.rm=T),\n",
    "              bottom_two = sum(BOTTOM_TWO_LEVELS, na.rm=T),          \n",
    "              bottom_two_pct = mean(BOTTOM_TWO_LEVELS_PCT, na.rm=T),\n",
    "              top_two = sum(TOP_TWO_LEVELS, na.rm=T),\n",
    "              top_two_pct = mean(TOP_TWO_LEVELS_PCT, na.rm=T),         \n",
    "              #throw away MAP_INDEX --> NAs\n",
    "              mean_scale_score = mean(MEAN_SCALE_SCORE, na.rm=T),\n",
    "              median_scale_score = mean(MEDIAN_SCALE_SCORE, na.rm=T),         \n",
    "              median_terra = mean(MEDIAN_TERRANOVA, na.rm=T)\n",
    "              )"
   ]
  },
  {
   "cell_type": "code",
   "execution_count": 13,
   "metadata": {
    "collapsed": false
   },
   "outputs": [
    {
     "data": {
      "text/html": [
       "<table>\n",
       "<thead><tr><th scope=col>SCHOOL_CODE_0001</th><th scope=col>SCHOOL_NAME</th><th scope=col>CONTENT_AREA</th><th scope=col>YEAR</th><th scope=col>number</th><th scope=col>enrolled</th><th scope=col>participant</th><th scope=col>reported</th><th scope=col>level_unknown</th><th scope=col>level_unknown_pct</th><th scope=col>⋯</th><th scope=col>proficient_pct</th><th scope=col>advanced</th><th scope=col>advanced_pct</th><th scope=col>bottom_two</th><th scope=col>bottom_two_pct</th><th scope=col>top_two</th><th scope=col>top_two_pct</th><th scope=col>mean_scale_score</th><th scope=col>median_scale_score</th><th scope=col>median_terra</th></tr></thead>\n",
       "<tbody>\n",
       "\t<tr><td>1015                   </td><td>HILLTOP SCHOOL         </td><td>Eng. Language Arts     </td><td>2010                   </td><td>1                      </td><td>11                     </td><td>0                      </td><td>11                     </td><td> 0                     </td><td> 0.0                   </td><td>⋯                      </td><td> 0.000000              </td><td>0                      </td><td> 0.00                  </td><td>11                     </td><td>100.00000              </td><td> 0                     </td><td> 0.000000              </td><td>652.5000               </td><td>659.0000               </td><td>27.00                  </td></tr>\n",
       "\t<tr><td>1015                   </td><td>JUVENILE DETENTION CTR.</td><td>Eng. Language Arts     </td><td>2010                   </td><td>1                      </td><td>13                     </td><td>0                      </td><td>13                     </td><td> 0                     </td><td> 0.0                   </td><td>⋯                      </td><td>38.500000              </td><td>0                      </td><td> 0.00                  </td><td> 8                     </td><td> 61.50000              </td><td> 5                     </td><td>38.500000              </td><td>196.8000               </td><td>197.0000               </td><td>  NaN                  </td></tr>\n",
       "\t<tr><td>1015                   </td><td>JUVENILE DETENTION CTR.</td><td>Eng. Language Arts     </td><td>2013                   </td><td>1                      </td><td>12                     </td><td>0                      </td><td>12                     </td><td> 0                     </td><td> 0.0                   </td><td>⋯                      </td><td>58.300000              </td><td>2                      </td><td>16.70                  </td><td> 3                     </td><td> 25.00000              </td><td> 9                     </td><td>75.000000              </td><td>202.7000               </td><td>200.0000               </td><td>  NaN                  </td></tr>\n",
       "\t<tr><td>1015                   </td><td>JUVENILE DETENTION CTR.</td><td>Mathematics            </td><td>2010                   </td><td>1                      </td><td>19                     </td><td>0                      </td><td>19                     </td><td> 0                     </td><td> 0.0                   </td><td>⋯                      </td><td> 5.300000              </td><td>1                      </td><td> 5.30                  </td><td>17                     </td><td> 89.50000              </td><td> 2                     </td><td>10.500000              </td><td>181.6000               </td><td>177.0000               </td><td>  NaN                  </td></tr>\n",
       "\t<tr><td>1015                   </td><td>JUVENILE DETENTION CTR.</td><td>Mathematics            </td><td>2011                   </td><td>1                      </td><td>19                     </td><td>0                      </td><td>19                     </td><td> 0                     </td><td> 0.0                   </td><td>⋯                      </td><td>31.600000              </td><td>2                      </td><td>10.50                  </td><td>11                     </td><td> 57.90000              </td><td> 8                     </td><td>42.100000              </td><td>197.2000               </td><td>193.0000               </td><td>  NaN                  </td></tr>\n",
       "\t<tr><td>1015                   </td><td>JUVENILE DETENTION CTR.</td><td>Mathematics            </td><td>2013                   </td><td>1                      </td><td>16                     </td><td>0                      </td><td>16                     </td><td> 0                     </td><td> 0.0                   </td><td>⋯                      </td><td>50.000000              </td><td>0                      </td><td> 0.00                  </td><td> 8                     </td><td> 50.00000              </td><td> 8                     </td><td>50.000000              </td><td>197.3000               </td><td>198.5000               </td><td>  NaN                  </td></tr>\n",
       "\t<tr><td>1015                   </td><td>JUVENILE DETENTION CTR.</td><td>Mathematics            </td><td>2014                   </td><td>1                      </td><td>13                     </td><td>0                      </td><td>13                     </td><td> 0                     </td><td> 0.0                   </td><td>⋯                      </td><td>30.800000              </td><td>2                      </td><td>15.40                  </td><td> 7                     </td><td> 53.80000              </td><td> 6                     </td><td>46.200000              </td><td>195.7000               </td><td>192.0000               </td><td>  NaN                  </td></tr>\n",
       "\t<tr><td>1015                   </td><td>MCCUNE SCHOOL FOR BOYS </td><td>Eng. Language Arts     </td><td>2010                   </td><td>1                      </td><td>19                     </td><td>0                      </td><td>18                     </td><td> 1                     </td><td> 5.3                   </td><td>⋯                      </td><td>11.100000              </td><td>0                      </td><td> 0.00                  </td><td>16                     </td><td> 88.90000              </td><td> 2                     </td><td>11.100000              </td><td>172.7000               </td><td>172.0000               </td><td>  NaN                  </td></tr>\n",
       "\t<tr><td>1015                   </td><td>MCCUNE SCHOOL FOR BOYS </td><td>Eng. Language Arts     </td><td>2011                   </td><td>1                      </td><td>20                     </td><td>0                      </td><td>20                     </td><td> 0                     </td><td> 0.0                   </td><td>⋯                      </td><td> 5.000000              </td><td>1                      </td><td> 5.00                  </td><td>18                     </td><td> 90.00000              </td><td> 2                     </td><td>10.000000              </td><td>179.3000               </td><td>174.0000               </td><td>  NaN                  </td></tr>\n",
       "\t<tr><td>1015                   </td><td>MCCUNE SCHOOL FOR BOYS </td><td>Science                </td><td>2010                   </td><td>1                      </td><td>15                     </td><td>0                      </td><td>14                     </td><td> 1                     </td><td> 6.7                   </td><td>⋯                      </td><td> 0.000000              </td><td>0                      </td><td> 0.00                  </td><td>14                     </td><td>100.00000              </td><td> 0                     </td><td> 0.000000              </td><td>169.8000               </td><td>172.0000               </td><td>  NaN                  </td></tr>\n",
       "\t<tr><td>1015                   </td><td>MCCUNE SCHOOL FOR BOYS </td><td>Science                </td><td>2011                   </td><td>1                      </td><td>13                     </td><td>0                      </td><td>12                     </td><td> 1                     </td><td> 7.7                   </td><td>⋯                      </td><td> 0.000000              </td><td>0                      </td><td> 0.00                  </td><td>12                     </td><td>100.00000              </td><td> 0                     </td><td> 0.000000              </td><td>167.7000               </td><td>167.0000               </td><td>  NaN                  </td></tr>\n",
       "\t<tr><td>1020                   </td><td>CENTER ALTERNATIVE     </td><td>Eng. Language Arts     </td><td>2010                   </td><td>2                      </td><td>28                     </td><td>0                      </td><td>28                     </td><td> 0                     </td><td> 0.0                   </td><td>⋯                      </td><td>30.500000              </td><td>0                      </td><td> 0.00                  </td><td>19                     </td><td> 69.50000              </td><td> 9                     </td><td>30.500000              </td><td>433.7500               </td><td>438.5000               </td><td>53.00                  </td></tr>\n",
       "\t<tr><td>1020                   </td><td>CENTER ALTERNATIVE     </td><td>Eng. Language Arts     </td><td>2011                   </td><td>2                      </td><td>37                     </td><td>0                      </td><td>37                     </td><td> 0                     </td><td> 0.0                   </td><td>⋯                      </td><td>23.900000              </td><td>0                      </td><td> 0.00                  </td><td>26                     </td><td> 76.10000              </td><td>11                     </td><td>23.900000              </td><td>425.8500               </td><td>430.7500               </td><td>33.50                  </td></tr>\n",
       "\t<tr><td>1020                   </td><td>CENTER ALTERNATIVE     </td><td>Eng. Language Arts     </td><td>2012                   </td><td>1                      </td><td>14                     </td><td>0                      </td><td>14                     </td><td> 0                     </td><td> 0.0                   </td><td>⋯                      </td><td> 0.000000              </td><td>0                      </td><td> 0.00                  </td><td>14                     </td><td>100.00000              </td><td> 0                     </td><td> 0.000000              </td><td>637.6000               </td><td>636.0000               </td><td>20.50                  </td></tr>\n",
       "\t<tr><td>1020                   </td><td>CENTER ALTERNATIVE     </td><td>Eng. Language Arts     </td><td>2013                   </td><td>2                      </td><td>29                     </td><td>0                      </td><td>29                     </td><td> 0                     </td><td> 0.0                   </td><td>⋯                      </td><td>10.100000              </td><td>0                      </td><td> 0.00                  </td><td>26                     </td><td> 89.90000              </td><td> 3                     </td><td>10.100000              </td><td>658.9500               </td><td>660.0000               </td><td>39.75                  </td></tr>\n",
       "\t<tr><td>1020                   </td><td>CENTER ALTERNATIVE     </td><td>Mathematics            </td><td>2010                   </td><td>3                      </td><td>43                     </td><td>0                      </td><td>43                     </td><td> 0                     </td><td> 0.0                   </td><td>⋯                      </td><td> 4.533333              </td><td>0                      </td><td> 0.00                  </td><td>41                     </td><td> 95.46667              </td><td> 2                     </td><td> 4.533333              </td><td>339.2333               </td><td>337.6667               </td><td>16.00                  </td></tr>\n",
       "\t<tr><td>1020                   </td><td>CENTER ALTERNATIVE     </td><td>Mathematics            </td><td>2011                   </td><td>2                      </td><td>39                     </td><td>0                      </td><td>39                     </td><td> 0                     </td><td> 0.0                   </td><td>⋯                      </td><td> 8.000000              </td><td>0                      </td><td> 0.00                  </td><td>35                     </td><td> 92.00000              </td><td> 4                     </td><td> 8.000000              </td><td>424.1000               </td><td>425.2500               </td><td>34.00                  </td></tr>\n",
       "\t<tr><td>1020                   </td><td>CENTER ALTERNATIVE     </td><td>Mathematics            </td><td>2012                   </td><td>1                      </td><td>14                     </td><td>0                      </td><td>14                     </td><td> 0                     </td><td> 0.0                   </td><td>⋯                      </td><td> 0.000000              </td><td>0                      </td><td> 0.00                  </td><td>14                     </td><td>100.00000              </td><td> 0                     </td><td> 0.000000              </td><td>634.2000               </td><td>635.5000               </td><td>19.50                  </td></tr>\n",
       "\t<tr><td>1020                   </td><td>CENTER ALTERNATIVE     </td><td>Mathematics            </td><td>2013                   </td><td>1                      </td><td>11                     </td><td>0                      </td><td>11                     </td><td> 0                     </td><td> 0.0                   </td><td>⋯                      </td><td> 9.100000              </td><td>0                      </td><td> 0.00                  </td><td>10                     </td><td> 90.90000              </td><td> 1                     </td><td> 9.100000              </td><td>646.4000               </td><td>655.0000               </td><td>34.00                  </td></tr>\n",
       "\t<tr><td>1020                   </td><td>CENTER ALTERNATIVE     </td><td>Science                </td><td>2010                   </td><td>1                      </td><td>13                     </td><td>0                      </td><td>13                     </td><td> 0                     </td><td> 0.0                   </td><td>⋯                      </td><td> 0.000000              </td><td>0                      </td><td> 0.00                  </td><td>13                     </td><td>100.00000              </td><td> 0                     </td><td> 0.000000              </td><td>665.7000               </td><td>671.0000               </td><td>33.00                  </td></tr>\n",
       "\t<tr><td>1020                   </td><td>CENTER ALTERNATIVE     </td><td>Science                </td><td>2011                   </td><td>1                      </td><td>14                     </td><td>0                      </td><td>14                     </td><td> 0                     </td><td> 0.0                   </td><td>⋯                      </td><td> 0.000000              </td><td>0                      </td><td> 0.00                  </td><td>14                     </td><td>100.00000              </td><td> 0                     </td><td> 0.000000              </td><td>665.3000               </td><td>668.5000               </td><td>26.50                  </td></tr>\n",
       "\t<tr><td>1020                   </td><td>CENTER ALTERNATIVE     </td><td>Science                </td><td>2013                   </td><td>1                      </td><td>18                     </td><td>0                      </td><td>18                     </td><td> 0                     </td><td> 0.0                   </td><td>⋯                      </td><td> 0.000000              </td><td>0                      </td><td> 0.00                  </td><td>18                     </td><td>100.00000              </td><td> 0                     </td><td> 0.000000              </td><td>666.5000               </td><td>663.0000               </td><td>23.50                  </td></tr>\n",
       "\t<tr><td>1020                   </td><td>FREDERICK DOUGLASS HIGH</td><td>Eng. Language Arts     </td><td>2010                   </td><td>1                      </td><td>19                     </td><td>0                      </td><td>19                     </td><td> 0                     </td><td> 0.0                   </td><td>⋯                      </td><td>68.400000              </td><td>0                      </td><td> 0.00                  </td><td> 6                     </td><td> 31.60000              </td><td>13                     </td><td>68.400000              </td><td>200.9000               </td><td>202.0000               </td><td>  NaN                  </td></tr>\n",
       "\t<tr><td>1020                   </td><td>FREDERICK DOUGLASS HIGH</td><td>Eng. Language Arts     </td><td>2011                   </td><td>1                      </td><td>26                     </td><td>0                      </td><td>26                     </td><td> 0                     </td><td> 0.0                   </td><td>⋯                      </td><td>26.900000              </td><td>3                      </td><td>11.50                  </td><td>16                     </td><td> 61.50000              </td><td>10                     </td><td>38.500000              </td><td>200.0000               </td><td>196.0000               </td><td>  NaN                  </td></tr>\n",
       "\t<tr><td>1020                   </td><td>FREDERICK DOUGLASS HIGH</td><td>Eng. Language Arts     </td><td>2012                   </td><td>1                      </td><td>37                     </td><td>0                      </td><td>32                     </td><td> 5                     </td><td>13.5                   </td><td>⋯                      </td><td>25.000000              </td><td>1                      </td><td> 3.10                  </td><td>23                     </td><td> 71.90000              </td><td> 9                     </td><td>28.100000              </td><td>189.7000               </td><td>188.0000               </td><td>  NaN                  </td></tr>\n",
       "\t<tr><td>1020                   </td><td>FREDERICK DOUGLASS HIGH</td><td>Eng. Language Arts     </td><td>2013                   </td><td>1                      </td><td>39                     </td><td>0                      </td><td>32                     </td><td> 7                     </td><td>17.9                   </td><td>⋯                      </td><td> 3.100000              </td><td>0                      </td><td> 0.00                  </td><td>31                     </td><td> 96.90000              </td><td> 1                     </td><td> 3.100000              </td><td>179.4000               </td><td>181.0000               </td><td>  NaN                  </td></tr>\n",
       "\t<tr><td>1020                   </td><td>FREDERICK DOUGLASS HIGH</td><td>Eng. Language Arts     </td><td>2014                   </td><td>2                      </td><td>58                     </td><td>0                      </td><td>39                     </td><td>19                     </td><td>22.1                   </td><td>⋯                      </td><td>21.700000              </td><td>1                      </td><td> 3.35                  </td><td>30                     </td><td> 75.00000              </td><td> 9                     </td><td>25.000000              </td><td>182.1000               </td><td>176.5000               </td><td>  NaN                  </td></tr>\n",
       "\t<tr><td>1020                   </td><td>FREDERICK DOUGLASS HIGH</td><td>Mathematics            </td><td>2010                   </td><td>1                      </td><td>27                     </td><td>0                      </td><td>27                     </td><td> 0                     </td><td> 0.0                   </td><td>⋯                      </td><td> 7.400000              </td><td>0                      </td><td> 0.00                  </td><td>25                     </td><td> 92.60000              </td><td> 2                     </td><td> 7.400000              </td><td>183.1000               </td><td>185.0000               </td><td>  NaN                  </td></tr>\n",
       "\t<tr><td>1020                   </td><td>FREDERICK DOUGLASS HIGH</td><td>Mathematics            </td><td>2011                   </td><td>1                      </td><td>26                     </td><td>0                      </td><td>25                     </td><td> 1                     </td><td> 3.8                   </td><td>⋯                      </td><td>24.000000              </td><td>0                      </td><td> 0.00                  </td><td>19                     </td><td> 76.00000              </td><td> 6                     </td><td>24.000000              </td><td>185.0000               </td><td>183.0000               </td><td>  NaN                  </td></tr>\n",
       "\t<tr><td>1020                   </td><td>FREDERICK DOUGLASS HIGH</td><td>Mathematics            </td><td>2013                   </td><td>1                      </td><td>32                     </td><td>0                      </td><td>27                     </td><td> 5                     </td><td>15.6                   </td><td>⋯                      </td><td> 3.700000              </td><td>0                      </td><td> 0.00                  </td><td>26                     </td><td> 96.30000              </td><td> 1                     </td><td> 3.700000              </td><td>177.4000               </td><td>177.0000               </td><td>  NaN                  </td></tr>\n",
       "\t<tr><td>⋮</td><td>⋮</td><td>⋮</td><td>⋮</td><td>⋮</td><td>⋮</td><td>⋮</td><td>⋮</td><td>⋮</td><td>⋮</td><td>⋱</td><td>⋮</td><td>⋮</td><td>⋮</td><td>⋮</td><td>⋮</td><td>⋮</td><td>⋮</td><td>⋮</td><td>⋮</td><td>⋮</td></tr>\n",
       "\t<tr><td>9990              </td><td>EXTERNAL LOCATION </td><td>Eng. Language Arts</td><td>2010              </td><td>5                 </td><td>284               </td><td>0                 </td><td>231               </td><td>53                </td><td>21.3800000        </td><td>⋯                 </td><td> 7.480000         </td><td>2                 </td><td>0.720000          </td><td>206               </td><td>91.80000          </td><td>25                </td><td> 8.200000         </td><td>506.0600          </td><td>515.3000          </td><td> 6.25000          </td></tr>\n",
       "\t<tr><td>9990              </td><td>EXTERNAL LOCATION </td><td>Eng. Language Arts</td><td>2011              </td><td>6                 </td><td>317               </td><td>0                 </td><td>258               </td><td>59                </td><td>22.8500000        </td><td>⋯                 </td><td> 7.083333         </td><td>2                 </td><td>1.416667          </td><td>238               </td><td>91.48333          </td><td>20                </td><td> 8.516667         </td><td>524.0833          </td><td>531.0833          </td><td> 8.90000          </td></tr>\n",
       "\t<tr><td>9990              </td><td>EXTERNAL LOCATION </td><td>Eng. Language Arts</td><td>2012              </td><td>6                 </td><td>351               </td><td>0                 </td><td>291               </td><td>60                </td><td>17.3166667        </td><td>⋯                 </td><td> 8.083333         </td><td>3                 </td><td>3.016667          </td><td>276               </td><td>88.93333          </td><td>15                </td><td>11.083333         </td><td>530.4167          </td><td>536.6667          </td><td>11.50000          </td></tr>\n",
       "\t<tr><td>9990              </td><td>EXTERNAL LOCATION </td><td>Mathematics       </td><td>2010              </td><td>7                 </td><td>328               </td><td>0                 </td><td>321               </td><td> 7                </td><td> 1.5000000        </td><td>⋯                 </td><td> 2.814286         </td><td>3                 </td><td>1.214286          </td><td>307               </td><td>95.97143          </td><td>14                </td><td> 4.028571         </td><td>524.6000          </td><td>530.4286          </td><td> 8.25000          </td></tr>\n",
       "\t<tr><td>9990              </td><td>EXTERNAL LOCATION </td><td>Mathematics       </td><td>2011              </td><td>7                 </td><td>321               </td><td>0                 </td><td>318               </td><td> 3                </td><td> 0.5142857        </td><td>⋯                 </td><td> 3.514286         </td><td>3                 </td><td>1.614286          </td><td>306               </td><td>94.88571          </td><td>12                </td><td> 5.128571         </td><td>533.9000          </td><td>535.7143          </td><td>11.58333          </td></tr>\n",
       "\t<tr><td>9990              </td><td>EXTERNAL LOCATION </td><td>Mathematics       </td><td>2012              </td><td>6                 </td><td>354               </td><td>0                 </td><td>329               </td><td>25                </td><td> 4.2000000        </td><td>⋯                 </td><td> 8.983333         </td><td>2                 </td><td>1.483333          </td><td>302               </td><td>89.53333          </td><td>27                </td><td>10.466667         </td><td>603.6000          </td><td>606.0000          </td><td>13.83333          </td></tr>\n",
       "\t<tr><td>9990              </td><td>EXTERNAL LOCATION </td><td>Science           </td><td>2010              </td><td>3                 </td><td>188               </td><td>0                 </td><td>175               </td><td>13                </td><td> 7.1000000        </td><td>⋯                 </td><td> 1.766667         </td><td>0                 </td><td>0.000000          </td><td>171               </td><td>98.23333          </td><td> 4                </td><td> 1.766667         </td><td>453.0000          </td><td>460.6667          </td><td> 7.75000          </td></tr>\n",
       "\t<tr><td>9990              </td><td>EXTERNAL LOCATION </td><td>Science           </td><td>2011              </td><td>3                 </td><td>163               </td><td>0                 </td><td>152               </td><td>11                </td><td> 4.2666667        </td><td>⋯                 </td><td> 1.700000         </td><td>4                 </td><td>3.433333          </td><td>145               </td><td>94.86667          </td><td> 7                </td><td> 5.133333         </td><td>459.1000          </td><td>461.5000          </td><td>12.50000          </td></tr>\n",
       "\t<tr><td>9990              </td><td>EXTERNAL LOCATION </td><td>Science           </td><td>2012              </td><td>2                 </td><td>159               </td><td>0                 </td><td>136               </td><td>23                </td><td> 8.0000000        </td><td>⋯                 </td><td> 1.250000         </td><td>1                 </td><td>3.350000          </td><td>132               </td><td>95.40000          </td><td> 4                </td><td> 4.600000         </td><td>615.3000          </td><td>621.5000          </td><td> 9.00000          </td></tr>\n",
       "\t<tr><td>9990              </td><td>EXTERNAL LOCATION </td><td>Social Studies    </td><td>2010              </td><td>1                 </td><td> 49               </td><td>0                 </td><td> 49               </td><td> 0                </td><td> 0.0000000        </td><td>⋯                 </td><td> 4.100000         </td><td>0                 </td><td>0.000000          </td><td> 47               </td><td>95.90000          </td><td> 2                </td><td> 4.100000         </td><td>173.5000          </td><td>174.0000          </td><td>     NaN          </td></tr>\n",
       "\t<tr><td>9990              </td><td>EXTERNAL LOCATION </td><td>Social Studies    </td><td>2011              </td><td>1                 </td><td> 24               </td><td>0                 </td><td> 24               </td><td> 0                </td><td> 0.0000000        </td><td>⋯                 </td><td> 4.200000         </td><td>0                 </td><td>0.000000          </td><td> 23               </td><td>95.80000          </td><td> 1                </td><td> 4.200000         </td><td>183.3000          </td><td>180.0000          </td><td>     NaN          </td></tr>\n",
       "\t<tr><td>9990              </td><td>EXTERNAL SITES    </td><td>Eng. Language Arts</td><td>2010              </td><td>5                 </td><td>101               </td><td>0                 </td><td> 95               </td><td> 6                </td><td> 6.8200000        </td><td>⋯                 </td><td>11.240000         </td><td>4                 </td><td>3.960000          </td><td> 82               </td><td>84.80000          </td><td>13                </td><td>15.200000         </td><td>519.3200          </td><td>534.5000          </td><td>15.00000          </td></tr>\n",
       "\t<tr><td>9990              </td><td>EXTERNAL SITES    </td><td>Eng. Language Arts</td><td>2011              </td><td>4                 </td><td> 78               </td><td>0                 </td><td> 73               </td><td> 5                </td><td> 6.1750000        </td><td>⋯                 </td><td>12.075000         </td><td>3                 </td><td>4.250000          </td><td> 61               </td><td>83.72500          </td><td>12                </td><td>16.275000         </td><td>517.1250          </td><td>524.6250          </td><td>25.83333          </td></tr>\n",
       "\t<tr><td>9990              </td><td>EXTERNAL SITES    </td><td>Eng. Language Arts</td><td>2012              </td><td>3                 </td><td> 59               </td><td>0                 </td><td> 56               </td><td> 3                </td><td> 3.7000000        </td><td>⋯                 </td><td>23.600000         </td><td>1                 </td><td>2.100000          </td><td> 40               </td><td>74.33333          </td><td>16                </td><td>25.700000         </td><td>488.3333          </td><td>492.5000          </td><td>22.25000          </td></tr>\n",
       "\t<tr><td>9990              </td><td>EXTERNAL SITES    </td><td>Eng. Language Arts</td><td>2013              </td><td>3                 </td><td> 41               </td><td>0                 </td><td> 41               </td><td> 0                </td><td> 0.0000000        </td><td>⋯                 </td><td>14.366667         </td><td>1                 </td><td>3.033333          </td><td> 34               </td><td>82.60000          </td><td> 7                </td><td>17.400000         </td><td>466.8333          </td><td>475.8333          </td><td>19.00000          </td></tr>\n",
       "\t<tr><td>9990              </td><td>EXTERNAL SITES    </td><td>Eng. Language Arts</td><td>2014              </td><td>2                 </td><td> 28               </td><td>0                 </td><td> 28               </td><td> 0                </td><td> 0.0000000        </td><td>⋯                 </td><td> 7.100000         </td><td>1                 </td><td>3.550000          </td><td> 25               </td><td>89.30000          </td><td> 3                </td><td>10.700000         </td><td>624.8000          </td><td>633.0000          </td><td>20.00000          </td></tr>\n",
       "\t<tr><td>9990              </td><td>EXTERNAL SITES    </td><td>Mathematics       </td><td>2010              </td><td>5                 </td><td>115               </td><td>0                 </td><td>107               </td><td> 8                </td><td> 6.1600000        </td><td>⋯                 </td><td> 8.340000         </td><td>6                 </td><td>5.800000          </td><td> 92               </td><td>85.84000          </td><td>15                </td><td>14.160000         </td><td>526.0600          </td><td>529.9000          </td><td>18.00000          </td></tr>\n",
       "\t<tr><td>9990              </td><td>EXTERNAL SITES    </td><td>Mathematics       </td><td>2011              </td><td>4                 </td><td> 80               </td><td>0                 </td><td> 72               </td><td> 8                </td><td> 9.5250000        </td><td>⋯                 </td><td>11.425000         </td><td>1                 </td><td>1.325000          </td><td> 63               </td><td>87.27500          </td><td> 9                </td><td>12.725000         </td><td>508.8750          </td><td>508.2500          </td><td>12.83333          </td></tr>\n",
       "\t<tr><td>9990              </td><td>EXTERNAL SITES    </td><td>Mathematics       </td><td>2012              </td><td>3                 </td><td> 61               </td><td>0                 </td><td> 58               </td><td> 3                </td><td> 3.4333333        </td><td>⋯                 </td><td>10.900000         </td><td>1                 </td><td>2.100000          </td><td> 51               </td><td>87.03333          </td><td> 7                </td><td>13.000000         </td><td>473.4000          </td><td>482.5000          </td><td>20.25000          </td></tr>\n",
       "\t<tr><td>9990              </td><td>EXTERNAL SITES    </td><td>Mathematics       </td><td>2013              </td><td>1                 </td><td> 17               </td><td>0                 </td><td> 17               </td><td> 0                </td><td> 0.0000000        </td><td>⋯                 </td><td>11.800000         </td><td>0                 </td><td>0.000000          </td><td> 15               </td><td>88.20000          </td><td> 2                </td><td>11.800000         </td><td>647.0000          </td><td>644.0000          </td><td>12.00000          </td></tr>\n",
       "\t<tr><td>9990              </td><td>EXTERNAL SITES    </td><td>Mathematics       </td><td>2014              </td><td>2                 </td><td> 28               </td><td>0                 </td><td> 27               </td><td> 1                </td><td> 3.5500000        </td><td>⋯                 </td><td>14.550000         </td><td>0                 </td><td>0.000000          </td><td> 23               </td><td>85.45000          </td><td> 4                </td><td>14.550000         </td><td>613.8000          </td><td>629.5000          </td><td>14.25000          </td></tr>\n",
       "\t<tr><td>9990              </td><td>EXTERNAL SITES    </td><td>Science           </td><td>2010              </td><td>2                 </td><td> 42               </td><td>0                 </td><td> 39               </td><td> 3                </td><td> 6.5000000        </td><td>⋯                 </td><td> 2.650000         </td><td>2                 </td><td>5.250000          </td><td> 36               </td><td>92.10000          </td><td> 3                </td><td> 7.900000         </td><td>628.0000          </td><td>627.0000          </td><td>25.25000          </td></tr>\n",
       "\t<tr><td>9990              </td><td>EXTERNAL SITES    </td><td>Science           </td><td>2011              </td><td>2                 </td><td> 44               </td><td>0                 </td><td> 38               </td><td> 6                </td><td>16.0500000        </td><td>⋯                 </td><td>12.200000         </td><td>1                 </td><td>1.900000          </td><td> 33               </td><td>85.90000          </td><td> 5                </td><td>14.100000         </td><td>407.7000          </td><td>412.7500          </td><td>19.50000          </td></tr>\n",
       "\t<tr><td>9990              </td><td>EXTERNAL SITES    </td><td>Science           </td><td>2012              </td><td>2                 </td><td> 36               </td><td>0                 </td><td> 32               </td><td> 4                </td><td>10.5000000        </td><td>⋯                 </td><td> 2.800000         </td><td>1                 </td><td>2.800000          </td><td> 30               </td><td>94.45000          </td><td> 2                </td><td> 5.550000         </td><td>405.4500          </td><td>416.2500          </td><td>15.00000          </td></tr>\n",
       "\t<tr><td>9990              </td><td>EXTERNAL SITES    </td><td>Science           </td><td>2013              </td><td>2                 </td><td> 39               </td><td>0                 </td><td> 38               </td><td> 1                </td><td> 2.5000000        </td><td>⋯                 </td><td>13.150000         </td><td>1                 </td><td>2.650000          </td><td> 32               </td><td>84.20000          </td><td> 6                </td><td>15.800000         </td><td>420.5500          </td><td>421.0000          </td><td>24.50000          </td></tr>\n",
       "\t<tr><td>9990              </td><td>EXTERNAL SITES    </td><td>Science           </td><td>2014              </td><td>1                 </td><td> 14               </td><td>0                 </td><td> 13               </td><td> 1                </td><td> 7.1000000        </td><td>⋯                 </td><td> 7.700000         </td><td>0                 </td><td>0.000000          </td><td> 12               </td><td>92.30000          </td><td> 1                </td><td> 7.700000         </td><td>640.6000          </td><td>666.5000          </td><td>20.00000          </td></tr>\n",
       "\t<tr><td>9990              </td><td>EXTERNAL SITES    </td><td>Social Studies    </td><td>2010              </td><td>1                 </td><td> 18               </td><td>0                 </td><td> 17               </td><td> 1                </td><td> 5.6000000        </td><td>⋯                 </td><td>23.500000         </td><td>0                 </td><td>0.000000          </td><td> 13               </td><td>76.50000          </td><td> 4                </td><td>23.500000         </td><td>180.1000          </td><td>175.5000          </td><td>     NaN          </td></tr>\n",
       "\t<tr><td>9990              </td><td>EXTERNAL SITES    </td><td>Social Studies    </td><td>2011              </td><td>1                 </td><td> 23               </td><td>0                 </td><td> 20               </td><td> 3                </td><td>13.0000000        </td><td>⋯                 </td><td>15.000000         </td><td>0                 </td><td>0.000000          </td><td> 17               </td><td>85.00000          </td><td> 3                </td><td>15.000000         </td><td>178.6000          </td><td>176.5000          </td><td>     NaN          </td></tr>\n",
       "\t<tr><td>9990              </td><td>EXTERNAL SITES    </td><td>Social Studies    </td><td>2012              </td><td>1                 </td><td> 26               </td><td>0                 </td><td> 22               </td><td> 4                </td><td>15.4000000        </td><td>⋯                 </td><td> 9.100000         </td><td>1                 </td><td>4.500000          </td><td> 19               </td><td>86.40000          </td><td> 3                </td><td>13.600000         </td><td>184.2000          </td><td>185.0000          </td><td>     NaN          </td></tr>\n",
       "\t<tr><td>9990              </td><td>EXTERNAL SITES    </td><td>Social Studies    </td><td>2013              </td><td>1                 </td><td> 20               </td><td>0                 </td><td> 19               </td><td> 1                </td><td> 5.0000000        </td><td>⋯                 </td><td>15.800000         </td><td>0                 </td><td>0.000000          </td><td> 16               </td><td>84.20000          </td><td> 3                </td><td>15.800000         </td><td>176.1000          </td><td>179.0000          </td><td>     NaN          </td></tr>\n",
       "</tbody>\n",
       "</table>\n"
      ],
      "text/latex": [
       "\\begin{tabular}{r|lllllllllllllllllllllllll}\n",
       " SCHOOL\\_CODE\\_0001 & SCHOOL\\_NAME & CONTENT\\_AREA & YEAR & number & enrolled & participant & reported & level\\_unknown & level\\_unknown\\_pct & ⋯ & proficient\\_pct & advanced & advanced\\_pct & bottom\\_two & bottom\\_two\\_pct & top\\_two & top\\_two\\_pct & mean\\_scale\\_score & median\\_scale\\_score & median\\_terra\\\\\n",
       "\\hline\n",
       "\t 1015                    & HILLTOP SCHOOL          & Eng. Language Arts      & 2010                    & 1                       & 11                      & 0                       & 11                      &  0                      &  0.0                    & ⋯                       &  0.000000               & 0                       &  0.00                   & 11                      & 100.00000               &  0                      &  0.000000               & 652.5000                & 659.0000                & 27.00                  \\\\\n",
       "\t 1015                    & JUVENILE DETENTION CTR. & Eng. Language Arts      & 2010                    & 1                       & 13                      & 0                       & 13                      &  0                      &  0.0                    & ⋯                       & 38.500000               & 0                       &  0.00                   &  8                      &  61.50000               &  5                      & 38.500000               & 196.8000                & 197.0000                &   NaN                  \\\\\n",
       "\t 1015                    & JUVENILE DETENTION CTR. & Eng. Language Arts      & 2013                    & 1                       & 12                      & 0                       & 12                      &  0                      &  0.0                    & ⋯                       & 58.300000               & 2                       & 16.70                   &  3                      &  25.00000               &  9                      & 75.000000               & 202.7000                & 200.0000                &   NaN                  \\\\\n",
       "\t 1015                    & JUVENILE DETENTION CTR. & Mathematics             & 2010                    & 1                       & 19                      & 0                       & 19                      &  0                      &  0.0                    & ⋯                       &  5.300000               & 1                       &  5.30                   & 17                      &  89.50000               &  2                      & 10.500000               & 181.6000                & 177.0000                &   NaN                  \\\\\n",
       "\t 1015                    & JUVENILE DETENTION CTR. & Mathematics             & 2011                    & 1                       & 19                      & 0                       & 19                      &  0                      &  0.0                    & ⋯                       & 31.600000               & 2                       & 10.50                   & 11                      &  57.90000               &  8                      & 42.100000               & 197.2000                & 193.0000                &   NaN                  \\\\\n",
       "\t 1015                    & JUVENILE DETENTION CTR. & Mathematics             & 2013                    & 1                       & 16                      & 0                       & 16                      &  0                      &  0.0                    & ⋯                       & 50.000000               & 0                       &  0.00                   &  8                      &  50.00000               &  8                      & 50.000000               & 197.3000                & 198.5000                &   NaN                  \\\\\n",
       "\t 1015                    & JUVENILE DETENTION CTR. & Mathematics             & 2014                    & 1                       & 13                      & 0                       & 13                      &  0                      &  0.0                    & ⋯                       & 30.800000               & 2                       & 15.40                   &  7                      &  53.80000               &  6                      & 46.200000               & 195.7000                & 192.0000                &   NaN                  \\\\\n",
       "\t 1015                    & MCCUNE SCHOOL FOR BOYS  & Eng. Language Arts      & 2010                    & 1                       & 19                      & 0                       & 18                      &  1                      &  5.3                    & ⋯                       & 11.100000               & 0                       &  0.00                   & 16                      &  88.90000               &  2                      & 11.100000               & 172.7000                & 172.0000                &   NaN                  \\\\\n",
       "\t 1015                    & MCCUNE SCHOOL FOR BOYS  & Eng. Language Arts      & 2011                    & 1                       & 20                      & 0                       & 20                      &  0                      &  0.0                    & ⋯                       &  5.000000               & 1                       &  5.00                   & 18                      &  90.00000               &  2                      & 10.000000               & 179.3000                & 174.0000                &   NaN                  \\\\\n",
       "\t 1015                    & MCCUNE SCHOOL FOR BOYS  & Science                 & 2010                    & 1                       & 15                      & 0                       & 14                      &  1                      &  6.7                    & ⋯                       &  0.000000               & 0                       &  0.00                   & 14                      & 100.00000               &  0                      &  0.000000               & 169.8000                & 172.0000                &   NaN                  \\\\\n",
       "\t 1015                    & MCCUNE SCHOOL FOR BOYS  & Science                 & 2011                    & 1                       & 13                      & 0                       & 12                      &  1                      &  7.7                    & ⋯                       &  0.000000               & 0                       &  0.00                   & 12                      & 100.00000               &  0                      &  0.000000               & 167.7000                & 167.0000                &   NaN                  \\\\\n",
       "\t 1020                    & CENTER ALTERNATIVE      & Eng. Language Arts      & 2010                    & 2                       & 28                      & 0                       & 28                      &  0                      &  0.0                    & ⋯                       & 30.500000               & 0                       &  0.00                   & 19                      &  69.50000               &  9                      & 30.500000               & 433.7500                & 438.5000                & 53.00                  \\\\\n",
       "\t 1020                    & CENTER ALTERNATIVE      & Eng. Language Arts      & 2011                    & 2                       & 37                      & 0                       & 37                      &  0                      &  0.0                    & ⋯                       & 23.900000               & 0                       &  0.00                   & 26                      &  76.10000               & 11                      & 23.900000               & 425.8500                & 430.7500                & 33.50                  \\\\\n",
       "\t 1020                    & CENTER ALTERNATIVE      & Eng. Language Arts      & 2012                    & 1                       & 14                      & 0                       & 14                      &  0                      &  0.0                    & ⋯                       &  0.000000               & 0                       &  0.00                   & 14                      & 100.00000               &  0                      &  0.000000               & 637.6000                & 636.0000                & 20.50                  \\\\\n",
       "\t 1020                    & CENTER ALTERNATIVE      & Eng. Language Arts      & 2013                    & 2                       & 29                      & 0                       & 29                      &  0                      &  0.0                    & ⋯                       & 10.100000               & 0                       &  0.00                   & 26                      &  89.90000               &  3                      & 10.100000               & 658.9500                & 660.0000                & 39.75                  \\\\\n",
       "\t 1020                    & CENTER ALTERNATIVE      & Mathematics             & 2010                    & 3                       & 43                      & 0                       & 43                      &  0                      &  0.0                    & ⋯                       &  4.533333               & 0                       &  0.00                   & 41                      &  95.46667               &  2                      &  4.533333               & 339.2333                & 337.6667                & 16.00                  \\\\\n",
       "\t 1020                    & CENTER ALTERNATIVE      & Mathematics             & 2011                    & 2                       & 39                      & 0                       & 39                      &  0                      &  0.0                    & ⋯                       &  8.000000               & 0                       &  0.00                   & 35                      &  92.00000               &  4                      &  8.000000               & 424.1000                & 425.2500                & 34.00                  \\\\\n",
       "\t 1020                    & CENTER ALTERNATIVE      & Mathematics             & 2012                    & 1                       & 14                      & 0                       & 14                      &  0                      &  0.0                    & ⋯                       &  0.000000               & 0                       &  0.00                   & 14                      & 100.00000               &  0                      &  0.000000               & 634.2000                & 635.5000                & 19.50                  \\\\\n",
       "\t 1020                    & CENTER ALTERNATIVE      & Mathematics             & 2013                    & 1                       & 11                      & 0                       & 11                      &  0                      &  0.0                    & ⋯                       &  9.100000               & 0                       &  0.00                   & 10                      &  90.90000               &  1                      &  9.100000               & 646.4000                & 655.0000                & 34.00                  \\\\\n",
       "\t 1020                    & CENTER ALTERNATIVE      & Science                 & 2010                    & 1                       & 13                      & 0                       & 13                      &  0                      &  0.0                    & ⋯                       &  0.000000               & 0                       &  0.00                   & 13                      & 100.00000               &  0                      &  0.000000               & 665.7000                & 671.0000                & 33.00                  \\\\\n",
       "\t 1020                    & CENTER ALTERNATIVE      & Science                 & 2011                    & 1                       & 14                      & 0                       & 14                      &  0                      &  0.0                    & ⋯                       &  0.000000               & 0                       &  0.00                   & 14                      & 100.00000               &  0                      &  0.000000               & 665.3000                & 668.5000                & 26.50                  \\\\\n",
       "\t 1020                    & CENTER ALTERNATIVE      & Science                 & 2013                    & 1                       & 18                      & 0                       & 18                      &  0                      &  0.0                    & ⋯                       &  0.000000               & 0                       &  0.00                   & 18                      & 100.00000               &  0                      &  0.000000               & 666.5000                & 663.0000                & 23.50                  \\\\\n",
       "\t 1020                    & FREDERICK DOUGLASS HIGH & Eng. Language Arts      & 2010                    & 1                       & 19                      & 0                       & 19                      &  0                      &  0.0                    & ⋯                       & 68.400000               & 0                       &  0.00                   &  6                      &  31.60000               & 13                      & 68.400000               & 200.9000                & 202.0000                &   NaN                  \\\\\n",
       "\t 1020                    & FREDERICK DOUGLASS HIGH & Eng. Language Arts      & 2011                    & 1                       & 26                      & 0                       & 26                      &  0                      &  0.0                    & ⋯                       & 26.900000               & 3                       & 11.50                   & 16                      &  61.50000               & 10                      & 38.500000               & 200.0000                & 196.0000                &   NaN                  \\\\\n",
       "\t 1020                    & FREDERICK DOUGLASS HIGH & Eng. Language Arts      & 2012                    & 1                       & 37                      & 0                       & 32                      &  5                      & 13.5                    & ⋯                       & 25.000000               & 1                       &  3.10                   & 23                      &  71.90000               &  9                      & 28.100000               & 189.7000                & 188.0000                &   NaN                  \\\\\n",
       "\t 1020                    & FREDERICK DOUGLASS HIGH & Eng. Language Arts      & 2013                    & 1                       & 39                      & 0                       & 32                      &  7                      & 17.9                    & ⋯                       &  3.100000               & 0                       &  0.00                   & 31                      &  96.90000               &  1                      &  3.100000               & 179.4000                & 181.0000                &   NaN                  \\\\\n",
       "\t 1020                    & FREDERICK DOUGLASS HIGH & Eng. Language Arts      & 2014                    & 2                       & 58                      & 0                       & 39                      & 19                      & 22.1                    & ⋯                       & 21.700000               & 1                       &  3.35                   & 30                      &  75.00000               &  9                      & 25.000000               & 182.1000                & 176.5000                &   NaN                  \\\\\n",
       "\t 1020                    & FREDERICK DOUGLASS HIGH & Mathematics             & 2010                    & 1                       & 27                      & 0                       & 27                      &  0                      &  0.0                    & ⋯                       &  7.400000               & 0                       &  0.00                   & 25                      &  92.60000               &  2                      &  7.400000               & 183.1000                & 185.0000                &   NaN                  \\\\\n",
       "\t 1020                    & FREDERICK DOUGLASS HIGH & Mathematics             & 2011                    & 1                       & 26                      & 0                       & 25                      &  1                      &  3.8                    & ⋯                       & 24.000000               & 0                       &  0.00                   & 19                      &  76.00000               &  6                      & 24.000000               & 185.0000                & 183.0000                &   NaN                  \\\\\n",
       "\t 1020                    & FREDERICK DOUGLASS HIGH & Mathematics             & 2013                    & 1                       & 32                      & 0                       & 27                      &  5                      & 15.6                    & ⋯                       &  3.700000               & 0                       &  0.00                   & 26                      &  96.30000               &  1                      &  3.700000               & 177.4000                & 177.0000                &   NaN                  \\\\\n",
       "\t ⋮ & ⋮ & ⋮ & ⋮ & ⋮ & ⋮ & ⋮ & ⋮ & ⋮ & ⋮ & ⋱ & ⋮ & ⋮ & ⋮ & ⋮ & ⋮ & ⋮ & ⋮ & ⋮ & ⋮ & ⋮\\\\\n",
       "\t 9990               & EXTERNAL LOCATION  & Eng. Language Arts & 2010               & 5                  & 284                & 0                  & 231                & 53                 & 21.3800000         & ⋯                  &  7.480000          & 2                  & 0.720000           & 206                & 91.80000           & 25                 &  8.200000          & 506.0600           & 515.3000           &  6.25000          \\\\\n",
       "\t 9990               & EXTERNAL LOCATION  & Eng. Language Arts & 2011               & 6                  & 317                & 0                  & 258                & 59                 & 22.8500000         & ⋯                  &  7.083333          & 2                  & 1.416667           & 238                & 91.48333           & 20                 &  8.516667          & 524.0833           & 531.0833           &  8.90000          \\\\\n",
       "\t 9990               & EXTERNAL LOCATION  & Eng. Language Arts & 2012               & 6                  & 351                & 0                  & 291                & 60                 & 17.3166667         & ⋯                  &  8.083333          & 3                  & 3.016667           & 276                & 88.93333           & 15                 & 11.083333          & 530.4167           & 536.6667           & 11.50000          \\\\\n",
       "\t 9990               & EXTERNAL LOCATION  & Mathematics        & 2010               & 7                  & 328                & 0                  & 321                &  7                 &  1.5000000         & ⋯                  &  2.814286          & 3                  & 1.214286           & 307                & 95.97143           & 14                 &  4.028571          & 524.6000           & 530.4286           &  8.25000          \\\\\n",
       "\t 9990               & EXTERNAL LOCATION  & Mathematics        & 2011               & 7                  & 321                & 0                  & 318                &  3                 &  0.5142857         & ⋯                  &  3.514286          & 3                  & 1.614286           & 306                & 94.88571           & 12                 &  5.128571          & 533.9000           & 535.7143           & 11.58333          \\\\\n",
       "\t 9990               & EXTERNAL LOCATION  & Mathematics        & 2012               & 6                  & 354                & 0                  & 329                & 25                 &  4.2000000         & ⋯                  &  8.983333          & 2                  & 1.483333           & 302                & 89.53333           & 27                 & 10.466667          & 603.6000           & 606.0000           & 13.83333          \\\\\n",
       "\t 9990               & EXTERNAL LOCATION  & Science            & 2010               & 3                  & 188                & 0                  & 175                & 13                 &  7.1000000         & ⋯                  &  1.766667          & 0                  & 0.000000           & 171                & 98.23333           &  4                 &  1.766667          & 453.0000           & 460.6667           &  7.75000          \\\\\n",
       "\t 9990               & EXTERNAL LOCATION  & Science            & 2011               & 3                  & 163                & 0                  & 152                & 11                 &  4.2666667         & ⋯                  &  1.700000          & 4                  & 3.433333           & 145                & 94.86667           &  7                 &  5.133333          & 459.1000           & 461.5000           & 12.50000          \\\\\n",
       "\t 9990               & EXTERNAL LOCATION  & Science            & 2012               & 2                  & 159                & 0                  & 136                & 23                 &  8.0000000         & ⋯                  &  1.250000          & 1                  & 3.350000           & 132                & 95.40000           &  4                 &  4.600000          & 615.3000           & 621.5000           &  9.00000          \\\\\n",
       "\t 9990               & EXTERNAL LOCATION  & Social Studies     & 2010               & 1                  &  49                & 0                  &  49                &  0                 &  0.0000000         & ⋯                  &  4.100000          & 0                  & 0.000000           &  47                & 95.90000           &  2                 &  4.100000          & 173.5000           & 174.0000           &      NaN          \\\\\n",
       "\t 9990               & EXTERNAL LOCATION  & Social Studies     & 2011               & 1                  &  24                & 0                  &  24                &  0                 &  0.0000000         & ⋯                  &  4.200000          & 0                  & 0.000000           &  23                & 95.80000           &  1                 &  4.200000          & 183.3000           & 180.0000           &      NaN          \\\\\n",
       "\t 9990               & EXTERNAL SITES     & Eng. Language Arts & 2010               & 5                  & 101                & 0                  &  95                &  6                 &  6.8200000         & ⋯                  & 11.240000          & 4                  & 3.960000           &  82                & 84.80000           & 13                 & 15.200000          & 519.3200           & 534.5000           & 15.00000          \\\\\n",
       "\t 9990               & EXTERNAL SITES     & Eng. Language Arts & 2011               & 4                  &  78                & 0                  &  73                &  5                 &  6.1750000         & ⋯                  & 12.075000          & 3                  & 4.250000           &  61                & 83.72500           & 12                 & 16.275000          & 517.1250           & 524.6250           & 25.83333          \\\\\n",
       "\t 9990               & EXTERNAL SITES     & Eng. Language Arts & 2012               & 3                  &  59                & 0                  &  56                &  3                 &  3.7000000         & ⋯                  & 23.600000          & 1                  & 2.100000           &  40                & 74.33333           & 16                 & 25.700000          & 488.3333           & 492.5000           & 22.25000          \\\\\n",
       "\t 9990               & EXTERNAL SITES     & Eng. Language Arts & 2013               & 3                  &  41                & 0                  &  41                &  0                 &  0.0000000         & ⋯                  & 14.366667          & 1                  & 3.033333           &  34                & 82.60000           &  7                 & 17.400000          & 466.8333           & 475.8333           & 19.00000          \\\\\n",
       "\t 9990               & EXTERNAL SITES     & Eng. Language Arts & 2014               & 2                  &  28                & 0                  &  28                &  0                 &  0.0000000         & ⋯                  &  7.100000          & 1                  & 3.550000           &  25                & 89.30000           &  3                 & 10.700000          & 624.8000           & 633.0000           & 20.00000          \\\\\n",
       "\t 9990               & EXTERNAL SITES     & Mathematics        & 2010               & 5                  & 115                & 0                  & 107                &  8                 &  6.1600000         & ⋯                  &  8.340000          & 6                  & 5.800000           &  92                & 85.84000           & 15                 & 14.160000          & 526.0600           & 529.9000           & 18.00000          \\\\\n",
       "\t 9990               & EXTERNAL SITES     & Mathematics        & 2011               & 4                  &  80                & 0                  &  72                &  8                 &  9.5250000         & ⋯                  & 11.425000          & 1                  & 1.325000           &  63                & 87.27500           &  9                 & 12.725000          & 508.8750           & 508.2500           & 12.83333          \\\\\n",
       "\t 9990               & EXTERNAL SITES     & Mathematics        & 2012               & 3                  &  61                & 0                  &  58                &  3                 &  3.4333333         & ⋯                  & 10.900000          & 1                  & 2.100000           &  51                & 87.03333           &  7                 & 13.000000          & 473.4000           & 482.5000           & 20.25000          \\\\\n",
       "\t 9990               & EXTERNAL SITES     & Mathematics        & 2013               & 1                  &  17                & 0                  &  17                &  0                 &  0.0000000         & ⋯                  & 11.800000          & 0                  & 0.000000           &  15                & 88.20000           &  2                 & 11.800000          & 647.0000           & 644.0000           & 12.00000          \\\\\n",
       "\t 9990               & EXTERNAL SITES     & Mathematics        & 2014               & 2                  &  28                & 0                  &  27                &  1                 &  3.5500000         & ⋯                  & 14.550000          & 0                  & 0.000000           &  23                & 85.45000           &  4                 & 14.550000          & 613.8000           & 629.5000           & 14.25000          \\\\\n",
       "\t 9990               & EXTERNAL SITES     & Science            & 2010               & 2                  &  42                & 0                  &  39                &  3                 &  6.5000000         & ⋯                  &  2.650000          & 2                  & 5.250000           &  36                & 92.10000           &  3                 &  7.900000          & 628.0000           & 627.0000           & 25.25000          \\\\\n",
       "\t 9990               & EXTERNAL SITES     & Science            & 2011               & 2                  &  44                & 0                  &  38                &  6                 & 16.0500000         & ⋯                  & 12.200000          & 1                  & 1.900000           &  33                & 85.90000           &  5                 & 14.100000          & 407.7000           & 412.7500           & 19.50000          \\\\\n",
       "\t 9990               & EXTERNAL SITES     & Science            & 2012               & 2                  &  36                & 0                  &  32                &  4                 & 10.5000000         & ⋯                  &  2.800000          & 1                  & 2.800000           &  30                & 94.45000           &  2                 &  5.550000          & 405.4500           & 416.2500           & 15.00000          \\\\\n",
       "\t 9990               & EXTERNAL SITES     & Science            & 2013               & 2                  &  39                & 0                  &  38                &  1                 &  2.5000000         & ⋯                  & 13.150000          & 1                  & 2.650000           &  32                & 84.20000           &  6                 & 15.800000          & 420.5500           & 421.0000           & 24.50000          \\\\\n",
       "\t 9990               & EXTERNAL SITES     & Science            & 2014               & 1                  &  14                & 0                  &  13                &  1                 &  7.1000000         & ⋯                  &  7.700000          & 0                  & 0.000000           &  12                & 92.30000           &  1                 &  7.700000          & 640.6000           & 666.5000           & 20.00000          \\\\\n",
       "\t 9990               & EXTERNAL SITES     & Social Studies     & 2010               & 1                  &  18                & 0                  &  17                &  1                 &  5.6000000         & ⋯                  & 23.500000          & 0                  & 0.000000           &  13                & 76.50000           &  4                 & 23.500000          & 180.1000           & 175.5000           &      NaN          \\\\\n",
       "\t 9990               & EXTERNAL SITES     & Social Studies     & 2011               & 1                  &  23                & 0                  &  20                &  3                 & 13.0000000         & ⋯                  & 15.000000          & 0                  & 0.000000           &  17                & 85.00000           &  3                 & 15.000000          & 178.6000           & 176.5000           &      NaN          \\\\\n",
       "\t 9990               & EXTERNAL SITES     & Social Studies     & 2012               & 1                  &  26                & 0                  &  22                &  4                 & 15.4000000         & ⋯                  &  9.100000          & 1                  & 4.500000           &  19                & 86.40000           &  3                 & 13.600000          & 184.2000           & 185.0000           &      NaN          \\\\\n",
       "\t 9990               & EXTERNAL SITES     & Social Studies     & 2013               & 1                  &  20                & 0                  &  19                &  1                 &  5.0000000         & ⋯                  & 15.800000          & 0                  & 0.000000           &  16                & 84.20000           &  3                 & 15.800000          & 176.1000           & 179.0000           &      NaN          \\\\\n",
       "\\end{tabular}\n"
      ],
      "text/plain": [
       "      SCHOOL_CODE_0001 SCHOOL_NAME             CONTENT_AREA       YEAR number\n",
       "1     1015             HILLTOP SCHOOL          Eng. Language Arts 2010 1     \n",
       "2     1015             JUVENILE DETENTION CTR. Eng. Language Arts 2010 1     \n",
       "3     1015             JUVENILE DETENTION CTR. Eng. Language Arts 2013 1     \n",
       "4     1015             JUVENILE DETENTION CTR. Mathematics        2010 1     \n",
       "5     1015             JUVENILE DETENTION CTR. Mathematics        2011 1     \n",
       "6     1015             JUVENILE DETENTION CTR. Mathematics        2013 1     \n",
       "7     1015             JUVENILE DETENTION CTR. Mathematics        2014 1     \n",
       "8     1015             MCCUNE SCHOOL FOR BOYS  Eng. Language Arts 2010 1     \n",
       "9     1015             MCCUNE SCHOOL FOR BOYS  Eng. Language Arts 2011 1     \n",
       "10    1015             MCCUNE SCHOOL FOR BOYS  Science            2010 1     \n",
       "11    1015             MCCUNE SCHOOL FOR BOYS  Science            2011 1     \n",
       "12    1020             CENTER ALTERNATIVE      Eng. Language Arts 2010 2     \n",
       "13    1020             CENTER ALTERNATIVE      Eng. Language Arts 2011 2     \n",
       "14    1020             CENTER ALTERNATIVE      Eng. Language Arts 2012 1     \n",
       "15    1020             CENTER ALTERNATIVE      Eng. Language Arts 2013 2     \n",
       "16    1020             CENTER ALTERNATIVE      Mathematics        2010 3     \n",
       "17    1020             CENTER ALTERNATIVE      Mathematics        2011 2     \n",
       "18    1020             CENTER ALTERNATIVE      Mathematics        2012 1     \n",
       "19    1020             CENTER ALTERNATIVE      Mathematics        2013 1     \n",
       "20    1020             CENTER ALTERNATIVE      Science            2010 1     \n",
       "21    1020             CENTER ALTERNATIVE      Science            2011 1     \n",
       "22    1020             CENTER ALTERNATIVE      Science            2013 1     \n",
       "23    1020             FREDERICK DOUGLASS HIGH Eng. Language Arts 2010 1     \n",
       "24    1020             FREDERICK DOUGLASS HIGH Eng. Language Arts 2011 1     \n",
       "25    1020             FREDERICK DOUGLASS HIGH Eng. Language Arts 2012 1     \n",
       "26    1020             FREDERICK DOUGLASS HIGH Eng. Language Arts 2013 1     \n",
       "27    1020             FREDERICK DOUGLASS HIGH Eng. Language Arts 2014 2     \n",
       "28    1020             FREDERICK DOUGLASS HIGH Mathematics        2010 1     \n",
       "29    1020             FREDERICK DOUGLASS HIGH Mathematics        2011 1     \n",
       "30    1020             FREDERICK DOUGLASS HIGH Mathematics        2013 1     \n",
       "⋮     ⋮                ⋮                       ⋮                  ⋮    ⋮     \n",
       "31107 9990             EXTERNAL LOCATION       Eng. Language Arts 2010 5     \n",
       "31108 9990             EXTERNAL LOCATION       Eng. Language Arts 2011 6     \n",
       "31109 9990             EXTERNAL LOCATION       Eng. Language Arts 2012 6     \n",
       "31110 9990             EXTERNAL LOCATION       Mathematics        2010 7     \n",
       "31111 9990             EXTERNAL LOCATION       Mathematics        2011 7     \n",
       "31112 9990             EXTERNAL LOCATION       Mathematics        2012 6     \n",
       "31113 9990             EXTERNAL LOCATION       Science            2010 3     \n",
       "31114 9990             EXTERNAL LOCATION       Science            2011 3     \n",
       "31115 9990             EXTERNAL LOCATION       Science            2012 2     \n",
       "31116 9990             EXTERNAL LOCATION       Social Studies     2010 1     \n",
       "31117 9990             EXTERNAL LOCATION       Social Studies     2011 1     \n",
       "31118 9990             EXTERNAL SITES          Eng. Language Arts 2010 5     \n",
       "31119 9990             EXTERNAL SITES          Eng. Language Arts 2011 4     \n",
       "31120 9990             EXTERNAL SITES          Eng. Language Arts 2012 3     \n",
       "31121 9990             EXTERNAL SITES          Eng. Language Arts 2013 3     \n",
       "31122 9990             EXTERNAL SITES          Eng. Language Arts 2014 2     \n",
       "31123 9990             EXTERNAL SITES          Mathematics        2010 5     \n",
       "31124 9990             EXTERNAL SITES          Mathematics        2011 4     \n",
       "31125 9990             EXTERNAL SITES          Mathematics        2012 3     \n",
       "31126 9990             EXTERNAL SITES          Mathematics        2013 1     \n",
       "31127 9990             EXTERNAL SITES          Mathematics        2014 2     \n",
       "31128 9990             EXTERNAL SITES          Science            2010 2     \n",
       "31129 9990             EXTERNAL SITES          Science            2011 2     \n",
       "31130 9990             EXTERNAL SITES          Science            2012 2     \n",
       "31131 9990             EXTERNAL SITES          Science            2013 2     \n",
       "31132 9990             EXTERNAL SITES          Science            2014 1     \n",
       "31133 9990             EXTERNAL SITES          Social Studies     2010 1     \n",
       "31134 9990             EXTERNAL SITES          Social Studies     2011 1     \n",
       "31135 9990             EXTERNAL SITES          Social Studies     2012 1     \n",
       "31136 9990             EXTERNAL SITES          Social Studies     2013 1     \n",
       "      enrolled participant reported level_unknown level_unknown_pct ⋯\n",
       "1     11       0           11        0             0.0              ⋯\n",
       "2     13       0           13        0             0.0              ⋯\n",
       "3     12       0           12        0             0.0              ⋯\n",
       "4     19       0           19        0             0.0              ⋯\n",
       "5     19       0           19        0             0.0              ⋯\n",
       "6     16       0           16        0             0.0              ⋯\n",
       "7     13       0           13        0             0.0              ⋯\n",
       "8     19       0           18        1             5.3              ⋯\n",
       "9     20       0           20        0             0.0              ⋯\n",
       "10    15       0           14        1             6.7              ⋯\n",
       "11    13       0           12        1             7.7              ⋯\n",
       "12    28       0           28        0             0.0              ⋯\n",
       "13    37       0           37        0             0.0              ⋯\n",
       "14    14       0           14        0             0.0              ⋯\n",
       "15    29       0           29        0             0.0              ⋯\n",
       "16    43       0           43        0             0.0              ⋯\n",
       "17    39       0           39        0             0.0              ⋯\n",
       "18    14       0           14        0             0.0              ⋯\n",
       "19    11       0           11        0             0.0              ⋯\n",
       "20    13       0           13        0             0.0              ⋯\n",
       "21    14       0           14        0             0.0              ⋯\n",
       "22    18       0           18        0             0.0              ⋯\n",
       "23    19       0           19        0             0.0              ⋯\n",
       "24    26       0           26        0             0.0              ⋯\n",
       "25    37       0           32        5            13.5              ⋯\n",
       "26    39       0           32        7            17.9              ⋯\n",
       "27    58       0           39       19            22.1              ⋯\n",
       "28    27       0           27        0             0.0              ⋯\n",
       "29    26       0           25        1             3.8              ⋯\n",
       "30    32       0           27        5            15.6              ⋯\n",
       "⋮     ⋮        ⋮           ⋮        ⋮             ⋮                 ⋱\n",
       "31107 284      0           231      53            21.3800000        ⋯\n",
       "31108 317      0           258      59            22.8500000        ⋯\n",
       "31109 351      0           291      60            17.3166667        ⋯\n",
       "31110 328      0           321       7             1.5000000        ⋯\n",
       "31111 321      0           318       3             0.5142857        ⋯\n",
       "31112 354      0           329      25             4.2000000        ⋯\n",
       "31113 188      0           175      13             7.1000000        ⋯\n",
       "31114 163      0           152      11             4.2666667        ⋯\n",
       "31115 159      0           136      23             8.0000000        ⋯\n",
       "31116  49      0            49       0             0.0000000        ⋯\n",
       "31117  24      0            24       0             0.0000000        ⋯\n",
       "31118 101      0            95       6             6.8200000        ⋯\n",
       "31119  78      0            73       5             6.1750000        ⋯\n",
       "31120  59      0            56       3             3.7000000        ⋯\n",
       "31121  41      0            41       0             0.0000000        ⋯\n",
       "31122  28      0            28       0             0.0000000        ⋯\n",
       "31123 115      0           107       8             6.1600000        ⋯\n",
       "31124  80      0            72       8             9.5250000        ⋯\n",
       "31125  61      0            58       3             3.4333333        ⋯\n",
       "31126  17      0            17       0             0.0000000        ⋯\n",
       "31127  28      0            27       1             3.5500000        ⋯\n",
       "31128  42      0            39       3             6.5000000        ⋯\n",
       "31129  44      0            38       6            16.0500000        ⋯\n",
       "31130  36      0            32       4            10.5000000        ⋯\n",
       "31131  39      0            38       1             2.5000000        ⋯\n",
       "31132  14      0            13       1             7.1000000        ⋯\n",
       "31133  18      0            17       1             5.6000000        ⋯\n",
       "31134  23      0            20       3            13.0000000        ⋯\n",
       "31135  26      0            22       4            15.4000000        ⋯\n",
       "31136  20      0            19       1             5.0000000        ⋯\n",
       "      proficient_pct advanced advanced_pct bottom_two bottom_two_pct top_two\n",
       "1      0.000000      0         0.00        11         100.00000       0     \n",
       "2     38.500000      0         0.00         8          61.50000       5     \n",
       "3     58.300000      2        16.70         3          25.00000       9     \n",
       "4      5.300000      1         5.30        17          89.50000       2     \n",
       "5     31.600000      2        10.50        11          57.90000       8     \n",
       "6     50.000000      0         0.00         8          50.00000       8     \n",
       "7     30.800000      2        15.40         7          53.80000       6     \n",
       "8     11.100000      0         0.00        16          88.90000       2     \n",
       "9      5.000000      1         5.00        18          90.00000       2     \n",
       "10     0.000000      0         0.00        14         100.00000       0     \n",
       "11     0.000000      0         0.00        12         100.00000       0     \n",
       "12    30.500000      0         0.00        19          69.50000       9     \n",
       "13    23.900000      0         0.00        26          76.10000      11     \n",
       "14     0.000000      0         0.00        14         100.00000       0     \n",
       "15    10.100000      0         0.00        26          89.90000       3     \n",
       "16     4.533333      0         0.00        41          95.46667       2     \n",
       "17     8.000000      0         0.00        35          92.00000       4     \n",
       "18     0.000000      0         0.00        14         100.00000       0     \n",
       "19     9.100000      0         0.00        10          90.90000       1     \n",
       "20     0.000000      0         0.00        13         100.00000       0     \n",
       "21     0.000000      0         0.00        14         100.00000       0     \n",
       "22     0.000000      0         0.00        18         100.00000       0     \n",
       "23    68.400000      0         0.00         6          31.60000      13     \n",
       "24    26.900000      3        11.50        16          61.50000      10     \n",
       "25    25.000000      1         3.10        23          71.90000       9     \n",
       "26     3.100000      0         0.00        31          96.90000       1     \n",
       "27    21.700000      1         3.35        30          75.00000       9     \n",
       "28     7.400000      0         0.00        25          92.60000       2     \n",
       "29    24.000000      0         0.00        19          76.00000       6     \n",
       "30     3.700000      0         0.00        26          96.30000       1     \n",
       "⋮     ⋮              ⋮        ⋮            ⋮          ⋮              ⋮      \n",
       "31107  7.480000      2        0.720000     206        91.80000       25     \n",
       "31108  7.083333      2        1.416667     238        91.48333       20     \n",
       "31109  8.083333      3        3.016667     276        88.93333       15     \n",
       "31110  2.814286      3        1.214286     307        95.97143       14     \n",
       "31111  3.514286      3        1.614286     306        94.88571       12     \n",
       "31112  8.983333      2        1.483333     302        89.53333       27     \n",
       "31113  1.766667      0        0.000000     171        98.23333        4     \n",
       "31114  1.700000      4        3.433333     145        94.86667        7     \n",
       "31115  1.250000      1        3.350000     132        95.40000        4     \n",
       "31116  4.100000      0        0.000000      47        95.90000        2     \n",
       "31117  4.200000      0        0.000000      23        95.80000        1     \n",
       "31118 11.240000      4        3.960000      82        84.80000       13     \n",
       "31119 12.075000      3        4.250000      61        83.72500       12     \n",
       "31120 23.600000      1        2.100000      40        74.33333       16     \n",
       "31121 14.366667      1        3.033333      34        82.60000        7     \n",
       "31122  7.100000      1        3.550000      25        89.30000        3     \n",
       "31123  8.340000      6        5.800000      92        85.84000       15     \n",
       "31124 11.425000      1        1.325000      63        87.27500        9     \n",
       "31125 10.900000      1        2.100000      51        87.03333        7     \n",
       "31126 11.800000      0        0.000000      15        88.20000        2     \n",
       "31127 14.550000      0        0.000000      23        85.45000        4     \n",
       "31128  2.650000      2        5.250000      36        92.10000        3     \n",
       "31129 12.200000      1        1.900000      33        85.90000        5     \n",
       "31130  2.800000      1        2.800000      30        94.45000        2     \n",
       "31131 13.150000      1        2.650000      32        84.20000        6     \n",
       "31132  7.700000      0        0.000000      12        92.30000        1     \n",
       "31133 23.500000      0        0.000000      13        76.50000        4     \n",
       "31134 15.000000      0        0.000000      17        85.00000        3     \n",
       "31135  9.100000      1        4.500000      19        86.40000        3     \n",
       "31136 15.800000      0        0.000000      16        84.20000        3     \n",
       "      top_two_pct mean_scale_score median_scale_score median_terra\n",
       "1      0.000000   652.5000         659.0000           27.00       \n",
       "2     38.500000   196.8000         197.0000             NaN       \n",
       "3     75.000000   202.7000         200.0000             NaN       \n",
       "4     10.500000   181.6000         177.0000             NaN       \n",
       "5     42.100000   197.2000         193.0000             NaN       \n",
       "6     50.000000   197.3000         198.5000             NaN       \n",
       "7     46.200000   195.7000         192.0000             NaN       \n",
       "8     11.100000   172.7000         172.0000             NaN       \n",
       "9     10.000000   179.3000         174.0000             NaN       \n",
       "10     0.000000   169.8000         172.0000             NaN       \n",
       "11     0.000000   167.7000         167.0000             NaN       \n",
       "12    30.500000   433.7500         438.5000           53.00       \n",
       "13    23.900000   425.8500         430.7500           33.50       \n",
       "14     0.000000   637.6000         636.0000           20.50       \n",
       "15    10.100000   658.9500         660.0000           39.75       \n",
       "16     4.533333   339.2333         337.6667           16.00       \n",
       "17     8.000000   424.1000         425.2500           34.00       \n",
       "18     0.000000   634.2000         635.5000           19.50       \n",
       "19     9.100000   646.4000         655.0000           34.00       \n",
       "20     0.000000   665.7000         671.0000           33.00       \n",
       "21     0.000000   665.3000         668.5000           26.50       \n",
       "22     0.000000   666.5000         663.0000           23.50       \n",
       "23    68.400000   200.9000         202.0000             NaN       \n",
       "24    38.500000   200.0000         196.0000             NaN       \n",
       "25    28.100000   189.7000         188.0000             NaN       \n",
       "26     3.100000   179.4000         181.0000             NaN       \n",
       "27    25.000000   182.1000         176.5000             NaN       \n",
       "28     7.400000   183.1000         185.0000             NaN       \n",
       "29    24.000000   185.0000         183.0000             NaN       \n",
       "30     3.700000   177.4000         177.0000             NaN       \n",
       "⋮     ⋮           ⋮                ⋮                  ⋮           \n",
       "31107  8.200000   506.0600         515.3000            6.25000    \n",
       "31108  8.516667   524.0833         531.0833            8.90000    \n",
       "31109 11.083333   530.4167         536.6667           11.50000    \n",
       "31110  4.028571   524.6000         530.4286            8.25000    \n",
       "31111  5.128571   533.9000         535.7143           11.58333    \n",
       "31112 10.466667   603.6000         606.0000           13.83333    \n",
       "31113  1.766667   453.0000         460.6667            7.75000    \n",
       "31114  5.133333   459.1000         461.5000           12.50000    \n",
       "31115  4.600000   615.3000         621.5000            9.00000    \n",
       "31116  4.100000   173.5000         174.0000                NaN    \n",
       "31117  4.200000   183.3000         180.0000                NaN    \n",
       "31118 15.200000   519.3200         534.5000           15.00000    \n",
       "31119 16.275000   517.1250         524.6250           25.83333    \n",
       "31120 25.700000   488.3333         492.5000           22.25000    \n",
       "31121 17.400000   466.8333         475.8333           19.00000    \n",
       "31122 10.700000   624.8000         633.0000           20.00000    \n",
       "31123 14.160000   526.0600         529.9000           18.00000    \n",
       "31124 12.725000   508.8750         508.2500           12.83333    \n",
       "31125 13.000000   473.4000         482.5000           20.25000    \n",
       "31126 11.800000   647.0000         644.0000           12.00000    \n",
       "31127 14.550000   613.8000         629.5000           14.25000    \n",
       "31128  7.900000   628.0000         627.0000           25.25000    \n",
       "31129 14.100000   407.7000         412.7500           19.50000    \n",
       "31130  5.550000   405.4500         416.2500           15.00000    \n",
       "31131 15.800000   420.5500         421.0000           24.50000    \n",
       "31132  7.700000   640.6000         666.5000           20.00000    \n",
       "31133 23.500000   180.1000         175.5000                NaN    \n",
       "31134 15.000000   178.6000         176.5000                NaN    \n",
       "31135 13.600000   184.2000         185.0000                NaN    \n",
       "31136 15.800000   176.1000         179.0000                NaN    "
      ]
     },
     "metadata": {},
     "output_type": "display_data"
    }
   ],
   "source": [
    "MO_data"
   ]
  },
  {
   "cell_type": "markdown",
   "metadata": {},
   "source": [
    "Getting closer...  "
   ]
  },
  {
   "cell_type": "code",
   "execution_count": null,
   "metadata": {
    "collapsed": true
   },
   "outputs": [],
   "source": []
  }
 ],
 "metadata": {
  "anaconda-cloud": {},
  "kernelspec": {
   "display_name": "R",
   "language": "R",
   "name": "ir"
  },
  "language_info": {
   "codemirror_mode": "r",
   "file_extension": ".r",
   "mimetype": "text/x-r-source",
   "name": "R",
   "pygments_lexer": "r",
   "version": "3.3.1"
  }
 },
 "nbformat": 4,
 "nbformat_minor": 1
}
