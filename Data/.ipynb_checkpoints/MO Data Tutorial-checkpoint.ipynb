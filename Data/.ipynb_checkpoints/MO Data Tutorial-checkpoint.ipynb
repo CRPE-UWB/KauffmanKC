{
 "cells": [
  {
   "cell_type": "markdown",
   "metadata": {},
   "source": [
    "# Missouri Data Preparation Tutorial\n",
    "Jose Hernandez  \n",
    "10/10/2016   \n",
    "CRPE   \n",
    "\n",
    "### Note:\n",
    "This is for illustration and teaching purposes."
   ]
  },
  {
   "cell_type": "code",
   "execution_count": 1,
   "metadata": {
    "collapsed": false
   },
   "outputs": [],
   "source": [
    "rm(list=ls())\n",
    "suppressMessages(library(dplyr))"
   ]
  },
  {
   "cell_type": "markdown",
   "metadata": {},
   "source": [
    "#### Load the Data"
   ]
  },
  {
   "cell_type": "code",
   "execution_count": 2,
   "metadata": {
    "collapsed": true
   },
   "outputs": [],
   "source": [
    "file <- \"~/Google Drive/CRPE/KauffmanKC/Data/MAP_School_Final.csv\" \n",
    "data <- read.csv(file, header=TRUE,stringsAsFactors = F,fileEncoding=\"latin1\")"
   ]
  },
  {
   "cell_type": "code",
   "execution_count": 3,
   "metadata": {
    "collapsed": false
   },
   "outputs": [
    {
     "data": {
      "text/html": [
       "<ol class=list-inline>\n",
       "\t<li>'COUNTY_DISTRICT_SCHOOL_CODE'</li>\n",
       "\t<li>'COUNTY_DISTRICT'</li>\n",
       "\t<li>'DISTRICT_NAME'</li>\n",
       "\t<li>'SCHOOL_CODE_0001'</li>\n",
       "\t<li>'SCHOOL_NAME'</li>\n",
       "\t<li>'CATEGORY'</li>\n",
       "\t<li>'TYPE'</li>\n",
       "\t<li>'CONTENT_AREA'</li>\n",
       "\t<li>'GRADE_LEVEL'</li>\n",
       "\t<li>'YEAR'</li>\n",
       "\t<li>'ACCOUNTABLE'</li>\n",
       "\t<li>'PARTICIPANT'</li>\n",
       "\t<li>'REPORTABLE'</li>\n",
       "\t<li>'LEVEL_NOT_DETERMINED'</li>\n",
       "\t<li>'LEVEL_NOT_DETERMINED_PCT'</li>\n",
       "\t<li>'BELOW_BASIC'</li>\n",
       "\t<li>'BELOW_BASIC_PCT'</li>\n",
       "\t<li>'BASIC'</li>\n",
       "\t<li>'BASIC_PCT'</li>\n",
       "\t<li>'PROFICIENT'</li>\n",
       "\t<li>'PROFICIENT_PCT'</li>\n",
       "\t<li>'ADVANCED'</li>\n",
       "\t<li>'ADVANCED_PCT'</li>\n",
       "\t<li>'BOTTOM_TWO_LEVELS'</li>\n",
       "\t<li>'BOTTOM_TWO_LEVELS_PCT'</li>\n",
       "\t<li>'TOP_TWO_LEVELS'</li>\n",
       "\t<li>'TOP_TWO_LEVELS_PCT'</li>\n",
       "\t<li>'MAP_INDEX'</li>\n",
       "\t<li>'MEAN_SCALE_SCORE'</li>\n",
       "\t<li>'MEDIAN_SCALE_SCORE'</li>\n",
       "\t<li>'MEDIAN_TERRANOVA'</li>\n",
       "</ol>\n"
      ],
      "text/latex": [
       "\\begin{enumerate*}\n",
       "\\item 'COUNTY\\_DISTRICT\\_SCHOOL\\_CODE'\n",
       "\\item 'COUNTY\\_DISTRICT'\n",
       "\\item 'DISTRICT\\_NAME'\n",
       "\\item 'SCHOOL\\_CODE\\_0001'\n",
       "\\item 'SCHOOL\\_NAME'\n",
       "\\item 'CATEGORY'\n",
       "\\item 'TYPE'\n",
       "\\item 'CONTENT\\_AREA'\n",
       "\\item 'GRADE\\_LEVEL'\n",
       "\\item 'YEAR'\n",
       "\\item 'ACCOUNTABLE'\n",
       "\\item 'PARTICIPANT'\n",
       "\\item 'REPORTABLE'\n",
       "\\item 'LEVEL\\_NOT\\_DETERMINED'\n",
       "\\item 'LEVEL\\_NOT\\_DETERMINED\\_PCT'\n",
       "\\item 'BELOW\\_BASIC'\n",
       "\\item 'BELOW\\_BASIC\\_PCT'\n",
       "\\item 'BASIC'\n",
       "\\item 'BASIC\\_PCT'\n",
       "\\item 'PROFICIENT'\n",
       "\\item 'PROFICIENT\\_PCT'\n",
       "\\item 'ADVANCED'\n",
       "\\item 'ADVANCED\\_PCT'\n",
       "\\item 'BOTTOM\\_TWO\\_LEVELS'\n",
       "\\item 'BOTTOM\\_TWO\\_LEVELS\\_PCT'\n",
       "\\item 'TOP\\_TWO\\_LEVELS'\n",
       "\\item 'TOP\\_TWO\\_LEVELS\\_PCT'\n",
       "\\item 'MAP\\_INDEX'\n",
       "\\item 'MEAN\\_SCALE\\_SCORE'\n",
       "\\item 'MEDIAN\\_SCALE\\_SCORE'\n",
       "\\item 'MEDIAN\\_TERRANOVA'\n",
       "\\end{enumerate*}\n"
      ],
      "text/markdown": [
       "1. 'COUNTY_DISTRICT_SCHOOL_CODE'\n",
       "2. 'COUNTY_DISTRICT'\n",
       "3. 'DISTRICT_NAME'\n",
       "4. 'SCHOOL_CODE_0001'\n",
       "5. 'SCHOOL_NAME'\n",
       "6. 'CATEGORY'\n",
       "7. 'TYPE'\n",
       "8. 'CONTENT_AREA'\n",
       "9. 'GRADE_LEVEL'\n",
       "10. 'YEAR'\n",
       "11. 'ACCOUNTABLE'\n",
       "12. 'PARTICIPANT'\n",
       "13. 'REPORTABLE'\n",
       "14. 'LEVEL_NOT_DETERMINED'\n",
       "15. 'LEVEL_NOT_DETERMINED_PCT'\n",
       "16. 'BELOW_BASIC'\n",
       "17. 'BELOW_BASIC_PCT'\n",
       "18. 'BASIC'\n",
       "19. 'BASIC_PCT'\n",
       "20. 'PROFICIENT'\n",
       "21. 'PROFICIENT_PCT'\n",
       "22. 'ADVANCED'\n",
       "23. 'ADVANCED_PCT'\n",
       "24. 'BOTTOM_TWO_LEVELS'\n",
       "25. 'BOTTOM_TWO_LEVELS_PCT'\n",
       "26. 'TOP_TWO_LEVELS'\n",
       "27. 'TOP_TWO_LEVELS_PCT'\n",
       "28. 'MAP_INDEX'\n",
       "29. 'MEAN_SCALE_SCORE'\n",
       "30. 'MEDIAN_SCALE_SCORE'\n",
       "31. 'MEDIAN_TERRANOVA'\n",
       "\n",
       "\n"
      ],
      "text/plain": [
       " [1] \"COUNTY_DISTRICT_SCHOOL_CODE\" \"COUNTY_DISTRICT\"            \n",
       " [3] \"DISTRICT_NAME\"               \"SCHOOL_CODE_0001\"           \n",
       " [5] \"SCHOOL_NAME\"                 \"CATEGORY\"                   \n",
       " [7] \"TYPE\"                        \"CONTENT_AREA\"               \n",
       " [9] \"GRADE_LEVEL\"                 \"YEAR\"                       \n",
       "[11] \"ACCOUNTABLE\"                 \"PARTICIPANT\"                \n",
       "[13] \"REPORTABLE\"                  \"LEVEL_NOT_DETERMINED\"       \n",
       "[15] \"LEVEL_NOT_DETERMINED_PCT\"    \"BELOW_BASIC\"                \n",
       "[17] \"BELOW_BASIC_PCT\"             \"BASIC\"                      \n",
       "[19] \"BASIC_PCT\"                   \"PROFICIENT\"                 \n",
       "[21] \"PROFICIENT_PCT\"              \"ADVANCED\"                   \n",
       "[23] \"ADVANCED_PCT\"                \"BOTTOM_TWO_LEVELS\"          \n",
       "[25] \"BOTTOM_TWO_LEVELS_PCT\"       \"TOP_TWO_LEVELS\"             \n",
       "[27] \"TOP_TWO_LEVELS_PCT\"          \"MAP_INDEX\"                  \n",
       "[29] \"MEAN_SCALE_SCORE\"            \"MEDIAN_SCALE_SCORE\"         \n",
       "[31] \"MEDIAN_TERRANOVA\"           "
      ]
     },
     "metadata": {},
     "output_type": "display_data"
    }
   ],
   "source": [
    "names(data)"
   ]
  },
  {
   "cell_type": "code",
   "execution_count": 4,
   "metadata": {
    "collapsed": false
   },
   "outputs": [
    {
     "data": {
      "text/plain": [
       " COUNTY_DISTRICT_SCHOOL_CODE COUNTY_DISTRICT  DISTRICT_NAME     \n",
       " Min.   :1.090e+07           Min.   :  1090   Length:141253     \n",
       " 1st Qu.:3.613e+08           1st Qu.: 36126   Class :character  \n",
       " Median :5.311e+08           Median : 53113   Mode  :character  \n",
       " Mean   :6.129e+08           Mean   : 61287                     \n",
       " 3rd Qu.:9.609e+08           3rd Qu.: 96088                     \n",
       " Max.   :4.014e+09           Max.   :401401                     \n",
       "                                                                \n",
       " SCHOOL_CODE_0001 SCHOOL_NAME          CATEGORY             TYPE          \n",
       " Min.   :1015     Length:141253      Length:141253      Length:141253     \n",
       " 1st Qu.:1050     Class :character   Class :character   Class :character  \n",
       " Median :4020     Mode  :character   Mode  :character   Mode  :character  \n",
       " Mean   :3132                                                             \n",
       " 3rd Qu.:4060                                                             \n",
       " Max.   :9990                                                             \n",
       "                                                                          \n",
       " CONTENT_AREA       GRADE_LEVEL             YEAR       ACCOUNTABLE    \n",
       " Length:141253      Length:141253      Min.   :2010   Min.   :  11.0  \n",
       " Class :character   Class :character   1st Qu.:2011   1st Qu.:  42.0  \n",
       " Mode  :character   Mode  :character   Median :2012   Median :  79.0  \n",
       "                                       Mean   :2012   Mean   : 137.4  \n",
       "                                       3rd Qu.:2013   3rd Qu.: 177.0  \n",
       "                                       Max.   :2014   Max.   :1583.0  \n",
       "                                                                      \n",
       "  PARTICIPANT       REPORTABLE     LEVEL_NOT_DETERMINED\n",
       " Min.   :  11.0   Min.   :  11.0   Min.   :  0.0000    \n",
       " 1st Qu.:  66.0   1st Qu.:  41.0   1st Qu.:  0.0000    \n",
       " Median : 139.0   Median :  77.0   Median :  0.0000    \n",
       " Mean   : 196.4   Mean   : 132.2   Mean   :  0.4595    \n",
       " 3rd Qu.: 252.0   3rd Qu.: 169.0   3rd Qu.:  0.0000    \n",
       " Max.   :1580.0   Max.   :1515.0   Max.   :185.0000    \n",
       " NA's   :76706                                         \n",
       " LEVEL_NOT_DETERMINED_PCT  BELOW_BASIC     BELOW_BASIC_PCT       BASIC       \n",
       " Min.   : 0.0000          Min.   :  0.00   Min.   :  0.000   Min.   :  0.00  \n",
       " 1st Qu.: 0.0000          1st Qu.:  2.00   1st Qu.:  3.000   1st Qu.: 15.00  \n",
       " Median : 0.0000          Median :  5.00   Median :  6.300   Median : 30.00  \n",
       " Mean   : 0.3249          Mean   : 11.44   Mean   :  9.465   Mean   : 48.53  \n",
       " 3rd Qu.: 0.0000          3rd Qu.: 13.00   3rd Qu.: 11.900   3rd Qu.: 64.00  \n",
       " Max.   :87.9000          Max.   :422.00   Max.   :100.000   Max.   :672.00  \n",
       "                                                                             \n",
       "   BASIC_PCT        PROFICIENT     PROFICIENT_PCT      ADVANCED     \n",
       " Min.   :  0.00   Min.   :  0.00   Min.   :  0.00   Min.   :  0.00  \n",
       " 1st Qu.: 29.80   1st Qu.: 13.00   1st Qu.: 28.40   1st Qu.:  4.00  \n",
       " Median : 39.10   Median : 27.00   Median : 36.30   Median : 10.00  \n",
       " Mean   : 39.02   Mean   : 49.06   Mean   : 35.62   Mean   : 23.17  \n",
       " 3rd Qu.: 48.20   3rd Qu.: 60.00   3rd Qu.: 43.60   3rd Qu.: 26.00  \n",
       " Max.   :100.00   Max.   :652.00   Max.   :100.00   Max.   :556.00  \n",
       "                                                                    \n",
       "  ADVANCED_PCT    BOTTOM_TWO_LEVELS BOTTOM_TWO_LEVELS_PCT TOP_TWO_LEVELS   \n",
       " Min.   :  0.00   Min.   :  0.00    Min.   :  0.00        Min.   :   0.00  \n",
       " 1st Qu.:  7.50   1st Qu.: 18.00    1st Qu.: 35.70        1st Qu.:  17.00  \n",
       " Median : 14.00   Median : 37.00    Median : 47.30        Median :  39.00  \n",
       " Mean   : 15.89   Mean   : 59.97    Mean   : 48.49        Mean   :  72.23  \n",
       " 3rd Qu.: 21.70   3rd Qu.: 77.00    3rd Qu.: 59.90        3rd Qu.:  85.00  \n",
       " Max.   :100.00   Max.   :980.00    Max.   :100.00        Max.   :1010.00  \n",
       "                                                                           \n",
       " TOP_TWO_LEVELS_PCT   MAP_INDEX     MEAN_SCALE_SCORE MEDIAN_SCALE_SCORE\n",
       " Min.   :  0.00     Min.   :100.0   Min.   :107.2    Min.   :100.0     \n",
       " 1st Qu.: 40.10     1st Qu.:330.5   1st Qu.:587.9    1st Qu.:591.0     \n",
       " Median : 52.70     Median :355.4   Median :655.4    Median :656.5     \n",
       " Mean   : 51.51     Mean   :349.5   Mean   :551.4    Mean   :552.3     \n",
       " 3rd Qu.: 64.30     3rd Qu.:377.0   3rd Qu.:679.1    3rd Qu.:680.0     \n",
       " Max.   :100.00     Max.   :500.0   Max.   :781.6    Max.   :783.0     \n",
       "                    NA's   :76706   NA's   :64547    NA's   :64547     \n",
       " MEDIAN_TERRANOVA\n",
       " Min.   : 3.00   \n",
       " 1st Qu.:54.00   \n",
       " Median :65.00   \n",
       " Mean   :62.72   \n",
       " 3rd Qu.:74.00   \n",
       " Max.   :99.00   \n",
       " NA's   :83471   "
      ]
     },
     "metadata": {},
     "output_type": "display_data"
    }
   ],
   "source": [
    "#summary of all the columns \n",
    "summary(data)"
   ]
  },
  {
   "cell_type": "markdown",
   "metadata": {},
   "source": [
    "Things look neormal i.e. numbers are numbers...   \n",
    "This Data has multiple categories by year, we want to issolate subject proficiency scores by school and year."
   ]
  },
  {
   "cell_type": "code",
   "execution_count": 5,
   "metadata": {
    "collapsed": false
   },
   "outputs": [
    {
     "data": {
      "text/plain": [
       "\n",
       " 2010  2011  2012  2013  2014 \n",
       "28514 28172 28160 28217 28190 "
      ]
     },
     "metadata": {},
     "output_type": "display_data"
    },
    {
     "data": {
      "text/plain": [
       "\n",
       "       MSIP5 Total MSIP5 Total wo EOC              Total \n",
       "             32402              32145              76706 "
      ]
     },
     "metadata": {},
     "output_type": "display_data"
    }
   ],
   "source": [
    "#look at the cases per year 2010-2014\n",
    "table(data$YEAR)\n",
    "#look at the subset categories FRL, subgroup, etc.\n",
    "table(data$CATEGORY)\n",
    "#We only want to look at school totals "
   ]
  },
  {
   "cell_type": "code",
   "execution_count": 6,
   "metadata": {
    "collapsed": true
   },
   "outputs": [],
   "source": [
    "data <- filter(data, CATEGORY == \"Total\")"
   ]
  },
  {
   "cell_type": "code",
   "execution_count": 7,
   "metadata": {
    "collapsed": false
   },
   "outputs": [
    {
     "data": {
      "text/html": [
       "<table>\n",
       "<thead><tr><th scope=col>COUNTY_DISTRICT_SCHOOL_CODE</th><th scope=col>COUNTY_DISTRICT</th><th scope=col>DISTRICT_NAME</th><th scope=col>SCHOOL_CODE_0001</th><th scope=col>SCHOOL_NAME</th><th scope=col>CATEGORY</th><th scope=col>TYPE</th><th scope=col>CONTENT_AREA</th><th scope=col>GRADE_LEVEL</th><th scope=col>YEAR</th><th scope=col>⋯</th><th scope=col>ADVANCED</th><th scope=col>ADVANCED_PCT</th><th scope=col>BOTTOM_TWO_LEVELS</th><th scope=col>BOTTOM_TWO_LEVELS_PCT</th><th scope=col>TOP_TWO_LEVELS</th><th scope=col>TOP_TWO_LEVELS_PCT</th><th scope=col>MAP_INDEX</th><th scope=col>MEAN_SCALE_SCORE</th><th scope=col>MEDIAN_SCALE_SCORE</th><th scope=col>MEDIAN_TERRANOVA</th></tr></thead>\n",
       "<tbody>\n",
       "\t<tr><td>10901050          </td><td>1090              </td><td>ADAIR CO. R-I     </td><td>1050              </td><td>ADAIR CO. HIGH    </td><td>Total             </td><td>Total             </td><td>Eng. Language Arts</td><td>7                 </td><td>2010              </td><td>⋯                 </td><td>0                 </td><td> 0.0              </td><td>17                </td><td>70.8              </td><td> 7                </td><td>29.2              </td><td>NA                </td><td>657.6             </td><td>663.5             </td><td>55.5              </td></tr>\n",
       "\t<tr><td>10901050          </td><td>1090              </td><td>ADAIR CO. R-I     </td><td>1050              </td><td>ADAIR CO. HIGH    </td><td>Total             </td><td>Total             </td><td>Eng. Language Arts</td><td>7                 </td><td>2011              </td><td>⋯                 </td><td>3                 </td><td>14.3              </td><td>10                </td><td>47.6              </td><td>11                </td><td>52.4              </td><td>NA                </td><td>680.5             </td><td>683.5             </td><td>68.5              </td></tr>\n",
       "\t<tr><td>10901050          </td><td>1090              </td><td>ADAIR CO. R-I     </td><td>1050              </td><td>ADAIR CO. HIGH    </td><td>Total             </td><td>Total             </td><td>Eng. Language Arts</td><td>7                 </td><td>2012              </td><td>⋯                 </td><td>2                 </td><td>11.1              </td><td>10                </td><td>55.6              </td><td> 8                </td><td>44.4              </td><td>NA                </td><td>674.1             </td><td>675.0             </td><td>65.0              </td></tr>\n",
       "\t<tr><td>10901050          </td><td>1090              </td><td>ADAIR CO. R-I     </td><td>1050              </td><td>ADAIR CO. HIGH    </td><td>Total             </td><td>Total             </td><td>Eng. Language Arts</td><td>7                 </td><td>2013              </td><td>⋯                 </td><td>4                 </td><td>25.0              </td><td> 8                </td><td>50.0              </td><td> 8                </td><td>50.0              </td><td>NA                </td><td>684.5             </td><td>680.0             </td><td>70.0              </td></tr>\n",
       "\t<tr><td>10901050          </td><td>1090              </td><td>ADAIR CO. R-I     </td><td>1050              </td><td>ADAIR CO. HIGH    </td><td>Total             </td><td>Total             </td><td>Eng. Language Arts</td><td>7                 </td><td>2014              </td><td>⋯                 </td><td>4                 </td><td>15.4              </td><td>10                </td><td>38.5              </td><td>16                </td><td>61.5              </td><td>NA                </td><td>684.1             </td><td>686.0             </td><td>70.0              </td></tr>\n",
       "\t<tr><td>10901050          </td><td>1090              </td><td>ADAIR CO. R-I     </td><td>1050              </td><td>ADAIR CO. HIGH    </td><td>Total             </td><td>Total             </td><td>Eng. Language Arts</td><td>8                 </td><td>2010              </td><td>⋯                 </td><td>2                 </td><td> 7.1              </td><td>14                </td><td>50.0              </td><td>14                </td><td>50.0              </td><td>NA                </td><td>691.3             </td><td>696.0             </td><td>61.5              </td></tr>\n",
       "</tbody>\n",
       "</table>\n"
      ],
      "text/latex": [
       "\\begin{tabular}{r|lllllllllllllllllllllllllllllll}\n",
       " COUNTY\\_DISTRICT\\_SCHOOL\\_CODE & COUNTY\\_DISTRICT & DISTRICT\\_NAME & SCHOOL\\_CODE\\_0001 & SCHOOL\\_NAME & CATEGORY & TYPE & CONTENT\\_AREA & GRADE\\_LEVEL & YEAR & ⋯ & ADVANCED & ADVANCED\\_PCT & BOTTOM\\_TWO\\_LEVELS & BOTTOM\\_TWO\\_LEVELS\\_PCT & TOP\\_TWO\\_LEVELS & TOP\\_TWO\\_LEVELS\\_PCT & MAP\\_INDEX & MEAN\\_SCALE\\_SCORE & MEDIAN\\_SCALE\\_SCORE & MEDIAN\\_TERRANOVA\\\\\n",
       "\\hline\n",
       "\t 10901050           & 1090               & ADAIR CO. R-I      & 1050               & ADAIR CO. HIGH     & Total              & Total              & Eng. Language Arts & 7                  & 2010               & ⋯                  & 0                  &  0.0               & 17                 & 70.8               &  7                 & 29.2               & NA                 & 657.6              & 663.5              & 55.5              \\\\\n",
       "\t 10901050           & 1090               & ADAIR CO. R-I      & 1050               & ADAIR CO. HIGH     & Total              & Total              & Eng. Language Arts & 7                  & 2011               & ⋯                  & 3                  & 14.3               & 10                 & 47.6               & 11                 & 52.4               & NA                 & 680.5              & 683.5              & 68.5              \\\\\n",
       "\t 10901050           & 1090               & ADAIR CO. R-I      & 1050               & ADAIR CO. HIGH     & Total              & Total              & Eng. Language Arts & 7                  & 2012               & ⋯                  & 2                  & 11.1               & 10                 & 55.6               &  8                 & 44.4               & NA                 & 674.1              & 675.0              & 65.0              \\\\\n",
       "\t 10901050           & 1090               & ADAIR CO. R-I      & 1050               & ADAIR CO. HIGH     & Total              & Total              & Eng. Language Arts & 7                  & 2013               & ⋯                  & 4                  & 25.0               &  8                 & 50.0               &  8                 & 50.0               & NA                 & 684.5              & 680.0              & 70.0              \\\\\n",
       "\t 10901050           & 1090               & ADAIR CO. R-I      & 1050               & ADAIR CO. HIGH     & Total              & Total              & Eng. Language Arts & 7                  & 2014               & ⋯                  & 4                  & 15.4               & 10                 & 38.5               & 16                 & 61.5               & NA                 & 684.1              & 686.0              & 70.0              \\\\\n",
       "\t 10901050           & 1090               & ADAIR CO. R-I      & 1050               & ADAIR CO. HIGH     & Total              & Total              & Eng. Language Arts & 8                  & 2010               & ⋯                  & 2                  &  7.1               & 14                 & 50.0               & 14                 & 50.0               & NA                 & 691.3              & 696.0              & 61.5              \\\\\n",
       "\\end{tabular}\n"
      ],
      "text/plain": [
       "  COUNTY_DISTRICT_SCHOOL_CODE COUNTY_DISTRICT DISTRICT_NAME SCHOOL_CODE_0001\n",
       "1 10901050                    1090            ADAIR CO. R-I 1050            \n",
       "2 10901050                    1090            ADAIR CO. R-I 1050            \n",
       "3 10901050                    1090            ADAIR CO. R-I 1050            \n",
       "4 10901050                    1090            ADAIR CO. R-I 1050            \n",
       "5 10901050                    1090            ADAIR CO. R-I 1050            \n",
       "6 10901050                    1090            ADAIR CO. R-I 1050            \n",
       "  SCHOOL_NAME    CATEGORY TYPE  CONTENT_AREA       GRADE_LEVEL YEAR ⋯ ADVANCED\n",
       "1 ADAIR CO. HIGH Total    Total Eng. Language Arts 7           2010 ⋯ 0       \n",
       "2 ADAIR CO. HIGH Total    Total Eng. Language Arts 7           2011 ⋯ 3       \n",
       "3 ADAIR CO. HIGH Total    Total Eng. Language Arts 7           2012 ⋯ 2       \n",
       "4 ADAIR CO. HIGH Total    Total Eng. Language Arts 7           2013 ⋯ 4       \n",
       "5 ADAIR CO. HIGH Total    Total Eng. Language Arts 7           2014 ⋯ 4       \n",
       "6 ADAIR CO. HIGH Total    Total Eng. Language Arts 8           2010 ⋯ 2       \n",
       "  ADVANCED_PCT BOTTOM_TWO_LEVELS BOTTOM_TWO_LEVELS_PCT TOP_TWO_LEVELS\n",
       "1  0.0         17                70.8                   7            \n",
       "2 14.3         10                47.6                  11            \n",
       "3 11.1         10                55.6                   8            \n",
       "4 25.0          8                50.0                   8            \n",
       "5 15.4         10                38.5                  16            \n",
       "6  7.1         14                50.0                  14            \n",
       "  TOP_TWO_LEVELS_PCT MAP_INDEX MEAN_SCALE_SCORE MEDIAN_SCALE_SCORE\n",
       "1 29.2               NA        657.6            663.5             \n",
       "2 52.4               NA        680.5            683.5             \n",
       "3 44.4               NA        674.1            675.0             \n",
       "4 50.0               NA        684.5            680.0             \n",
       "5 61.5               NA        684.1            686.0             \n",
       "6 50.0               NA        691.3            696.0             \n",
       "  MEDIAN_TERRANOVA\n",
       "1 55.5            \n",
       "2 68.5            \n",
       "3 65.0            \n",
       "4 70.0            \n",
       "5 70.0            \n",
       "6 61.5            "
      ]
     },
     "metadata": {},
     "output_type": "display_data"
    }
   ],
   "source": [
    "head(data)"
   ]
  },
  {
   "cell_type": "markdown",
   "metadata": {},
   "source": [
    "Notice that we have grade specific categories X Content_Area X Year for each school.  We want school specific categories X year.  We will need to aggregate the grade level infomration across proficiency categories.  "
   ]
  },
  {
   "cell_type": "code",
   "execution_count": 8,
   "metadata": {
    "collapsed": true
   },
   "outputs": [],
   "source": [
    "test1 <- data %>%\n",
    "  group_by(SCHOOL_CODE_0001,SCHOOL_NAME,CONTENT_AREA,YEAR) %>%\n",
    "  summarise(number = n(),\n",
    "            REPORTED = sum(REPORTABLE,na.rm=T))"
   ]
  },
  {
   "cell_type": "markdown",
   "metadata": {},
   "source": [
    "Let's test out aggregation using dplyr   \n",
    "I'm combining content areas by school   \n",
    "In the case where there are multiple grades of the content area I want to either:   \n",
    "1. Add the counts of students \n",
    "2. Average out the percentages (not ideal but can regain percentages from aggregate counts in this case)\n",
    "This is what the previous code did with \"REPORTABLE\" or the number of students that they can report took the test. "
   ]
  },
  {
   "cell_type": "code",
   "execution_count": 9,
   "metadata": {
    "collapsed": false
   },
   "outputs": [
    {
     "data": {
      "text/html": [
       "<table>\n",
       "<thead><tr><th scope=col>SCHOOL_CODE_0001</th><th scope=col>SCHOOL_NAME</th><th scope=col>CONTENT_AREA</th><th scope=col>YEAR</th><th scope=col>number</th><th scope=col>REPORTED</th></tr></thead>\n",
       "<tbody>\n",
       "\t<tr><td>1050              </td><td>ADAIR CO. HIGH    </td><td>Eng. Language Arts</td><td>2010              </td><td>8                 </td><td>169               </td></tr>\n",
       "</tbody>\n",
       "</table>\n"
      ],
      "text/latex": [
       "\\begin{tabular}{r|llllll}\n",
       " SCHOOL\\_CODE\\_0001 & SCHOOL\\_NAME & CONTENT\\_AREA & YEAR & number & REPORTED\\\\\n",
       "\\hline\n",
       "\t 1050               & ADAIR CO. HIGH     & Eng. Language Arts & 2010               & 8                  & 169               \\\\\n",
       "\\end{tabular}\n"
      ],
      "text/plain": [
       "  SCHOOL_CODE_0001 SCHOOL_NAME    CONTENT_AREA       YEAR number REPORTED\n",
       "1 1050             ADAIR CO. HIGH Eng. Language Arts 2010 8      169     "
      ]
     },
     "metadata": {},
     "output_type": "display_data"
    }
   ],
   "source": [
    "filter(test1, SCHOOL_NAME == 'ADAIR CO. HIGH' & CONTENT_AREA=='Eng. Language Arts' & YEAR == 2010)"
   ]
  },
  {
   "cell_type": "markdown",
   "metadata": {},
   "source": [
    "The \"number\" indicates the # of elements aggregated for this [school X subject X grade] and the variable \"REPORTED\"(I know not ideal) is the sum of the counts of students reported.  Let's see if this checks out."
   ]
  },
  {
   "cell_type": "code",
   "execution_count": 10,
   "metadata": {
    "collapsed": false
   },
   "outputs": [
    {
     "data": {
      "text/html": [
       "<ol class=list-inline>\n",
       "\t<li>24</li>\n",
       "\t<li>28</li>\n",
       "\t<li>17</li>\n",
       "\t<li>26</li>\n",
       "\t<li>17</li>\n",
       "\t<li>20</li>\n",
       "\t<li>17</li>\n",
       "\t<li>20</li>\n",
       "</ol>\n"
      ],
      "text/latex": [
       "\\begin{enumerate*}\n",
       "\\item 24\n",
       "\\item 28\n",
       "\\item 17\n",
       "\\item 26\n",
       "\\item 17\n",
       "\\item 20\n",
       "\\item 17\n",
       "\\item 20\n",
       "\\end{enumerate*}\n"
      ],
      "text/markdown": [
       "1. 24\n",
       "2. 28\n",
       "3. 17\n",
       "4. 26\n",
       "5. 17\n",
       "6. 20\n",
       "7. 17\n",
       "8. 20\n",
       "\n",
       "\n"
      ],
      "text/plain": [
       "[1] 24 28 17 26 17 20 17 20"
      ]
     },
     "metadata": {},
     "output_type": "display_data"
    }
   ],
   "source": [
    "#Filter the original data to give you that school and subject and display the counts that we aggregated\n",
    "test2 <- filter(data, SCHOOL_NAME == 'ADAIR CO. HIGH' & CONTENT_AREA=='Eng. Language Arts' & YEAR == 2010)\n",
    "\n",
    "test2$REPORTABLE"
   ]
  },
  {
   "cell_type": "code",
   "execution_count": 11,
   "metadata": {
    "collapsed": false
   },
   "outputs": [
    {
     "data": {
      "text/html": [
       "169"
      ],
      "text/latex": [
       "169"
      ],
      "text/markdown": [
       "169"
      ],
      "text/plain": [
       "[1] 169"
      ]
     },
     "metadata": {},
     "output_type": "display_data"
    }
   ],
   "source": [
    "24+28+17+26+17+20+17+20"
   ]
  },
  {
   "cell_type": "markdown",
   "metadata": {},
   "source": [
    "#### Victory!\n",
    "Let's do it for all the columns of interest."
   ]
  },
  {
   "cell_type": "code",
   "execution_count": 12,
   "metadata": {
    "collapsed": true
   },
   "outputs": [],
   "source": [
    "MO_data = data %>%\n",
    "            group_by(SCHOOL_CODE_0001,SCHOOL_NAME,CONTENT_AREA,YEAR) %>%\n",
    "              summarise(number = n(),\n",
    "              enrolled = sum(ACCOUNTABLE, na.rm=T), \n",
    "              participant = sum(PARTICIPANT, na.rm=T),                \n",
    "              reported = sum(REPORTABLE, na.rm=T),\n",
    "              level_unknown = sum(LEVEL_NOT_DETERMINED, na.rm=T),\n",
    "              level_unknown_pct = mean(LEVEL_NOT_DETERMINED_PCT, na.rm=T),   \n",
    "              below_basic = sum(BELOW_BASIC, na.rm=T),\n",
    "              below_basic_pct = mean(BELOW_BASIC_PCT, na.rm=T), \n",
    "              basic = sum(BASIC, na.rm=T),                      \n",
    "              basic_pct = mean(BASIC_PCT, na.rm=T),\n",
    "              proficent = sum(PROFICIENT, na.rm=T),\n",
    "              proficient_pct = mean(PROFICIENT_PCT, na.rm=T),             \n",
    "              advanced = sum(ADVANCED, na.rm=T),\n",
    "              advanced_pct = mean(ADVANCED_PCT, na.rm=T),\n",
    "              bottom_two = sum(BOTTOM_TWO_LEVELS, na.rm=T),          \n",
    "              bottom_two_pct = mean(BOTTOM_TWO_LEVELS_PCT, na.rm=T),\n",
    "              top_two = sum(TOP_TWO_LEVELS, na.rm=T),\n",
    "              top_two_pct = mean(TOP_TWO_LEVELS_PCT, na.rm=T),         \n",
    "              #throw away MAP_INDEX --> NAs\n",
    "              mean_scale_score = mean(MEAN_SCALE_SCORE, na.rm=T),\n",
    "              median_scale_score = mean(MEDIAN_SCALE_SCORE, na.rm=T),         \n",
    "              median_terra = mean(MEDIAN_TERRANOVA, na.rm=T)\n",
    "              )"
   ]
  },
  {
   "cell_type": "code",
   "execution_count": 13,
   "metadata": {
    "collapsed": false
   },
   "outputs": [
    {
     "data": {
      "text/html": [
       "<table>\n",
       "<thead><tr><th scope=col>SCHOOL_CODE_0001</th><th scope=col>SCHOOL_NAME</th><th scope=col>CONTENT_AREA</th><th scope=col>YEAR</th><th scope=col>number</th><th scope=col>enrolled</th><th scope=col>participant</th><th scope=col>reported</th><th scope=col>level_unknown</th><th scope=col>level_unknown_pct</th><th scope=col>⋯</th><th scope=col>proficient_pct</th><th scope=col>advanced</th><th scope=col>advanced_pct</th><th scope=col>bottom_two</th><th scope=col>bottom_two_pct</th><th scope=col>top_two</th><th scope=col>top_two_pct</th><th scope=col>mean_scale_score</th><th scope=col>median_scale_score</th><th scope=col>median_terra</th></tr></thead>\n",
       "<tbody>\n",
       "\t<tr><td>1015                   </td><td>HILLTOP SCHOOL         </td><td>Eng. Language Arts     </td><td>2010                   </td><td>1                      </td><td>11                     </td><td>0                      </td><td>11                     </td><td>0                      </td><td>0                      </td><td>⋯                      </td><td> 0.0                   </td><td>0                      </td><td> 0.0                   </td><td>11                     </td><td>100.0                  </td><td>0                      </td><td> 0.0                   </td><td>652.5                  </td><td>659.0                  </td><td> 27                    </td></tr>\n",
       "\t<tr><td>1015                   </td><td>JUVENILE DETENTION CTR.</td><td>Eng. Language Arts     </td><td>2010                   </td><td>1                      </td><td>13                     </td><td>0                      </td><td>13                     </td><td>0                      </td><td>0                      </td><td>⋯                      </td><td>38.5                   </td><td>0                      </td><td> 0.0                   </td><td> 8                     </td><td> 61.5                  </td><td>5                      </td><td>38.5                   </td><td>196.8                  </td><td>197.0                  </td><td>NaN                    </td></tr>\n",
       "\t<tr><td>1015                   </td><td>JUVENILE DETENTION CTR.</td><td>Eng. Language Arts     </td><td>2013                   </td><td>1                      </td><td>12                     </td><td>0                      </td><td>12                     </td><td>0                      </td><td>0                      </td><td>⋯                      </td><td>58.3                   </td><td>2                      </td><td>16.7                   </td><td> 3                     </td><td> 25.0                  </td><td>9                      </td><td>75.0                   </td><td>202.7                  </td><td>200.0                  </td><td>NaN                    </td></tr>\n",
       "\t<tr><td>1015                   </td><td>JUVENILE DETENTION CTR.</td><td>Mathematics            </td><td>2010                   </td><td>1                      </td><td>19                     </td><td>0                      </td><td>19                     </td><td>0                      </td><td>0                      </td><td>⋯                      </td><td> 5.3                   </td><td>1                      </td><td> 5.3                   </td><td>17                     </td><td> 89.5                  </td><td>2                      </td><td>10.5                   </td><td>181.6                  </td><td>177.0                  </td><td>NaN                    </td></tr>\n",
       "\t<tr><td>1015                   </td><td>JUVENILE DETENTION CTR.</td><td>Mathematics            </td><td>2011                   </td><td>1                      </td><td>19                     </td><td>0                      </td><td>19                     </td><td>0                      </td><td>0                      </td><td>⋯                      </td><td>31.6                   </td><td>2                      </td><td>10.5                   </td><td>11                     </td><td> 57.9                  </td><td>8                      </td><td>42.1                   </td><td>197.2                  </td><td>193.0                  </td><td>NaN                    </td></tr>\n",
       "\t<tr><td>1015                   </td><td>JUVENILE DETENTION CTR.</td><td>Mathematics            </td><td>2013                   </td><td>1                      </td><td>16                     </td><td>0                      </td><td>16                     </td><td>0                      </td><td>0                      </td><td>⋯                      </td><td>50.0                   </td><td>0                      </td><td> 0.0                   </td><td> 8                     </td><td> 50.0                  </td><td>8                      </td><td>50.0                   </td><td>197.3                  </td><td>198.5                  </td><td>NaN                    </td></tr>\n",
       "</tbody>\n",
       "</table>\n"
      ],
      "text/latex": [
       "\\begin{tabular}{r|lllllllllllllllllllllllll}\n",
       " SCHOOL\\_CODE\\_0001 & SCHOOL\\_NAME & CONTENT\\_AREA & YEAR & number & enrolled & participant & reported & level\\_unknown & level\\_unknown\\_pct & ⋯ & proficient\\_pct & advanced & advanced\\_pct & bottom\\_two & bottom\\_two\\_pct & top\\_two & top\\_two\\_pct & mean\\_scale\\_score & median\\_scale\\_score & median\\_terra\\\\\n",
       "\\hline\n",
       "\t 1015                    & HILLTOP SCHOOL          & Eng. Language Arts      & 2010                    & 1                       & 11                      & 0                       & 11                      & 0                       & 0                       & ⋯                       &  0.0                    & 0                       &  0.0                    & 11                      & 100.0                   & 0                       &  0.0                    & 652.5                   & 659.0                   &  27                    \\\\\n",
       "\t 1015                    & JUVENILE DETENTION CTR. & Eng. Language Arts      & 2010                    & 1                       & 13                      & 0                       & 13                      & 0                       & 0                       & ⋯                       & 38.5                    & 0                       &  0.0                    &  8                      &  61.5                   & 5                       & 38.5                    & 196.8                   & 197.0                   & NaN                    \\\\\n",
       "\t 1015                    & JUVENILE DETENTION CTR. & Eng. Language Arts      & 2013                    & 1                       & 12                      & 0                       & 12                      & 0                       & 0                       & ⋯                       & 58.3                    & 2                       & 16.7                    &  3                      &  25.0                   & 9                       & 75.0                    & 202.7                   & 200.0                   & NaN                    \\\\\n",
       "\t 1015                    & JUVENILE DETENTION CTR. & Mathematics             & 2010                    & 1                       & 19                      & 0                       & 19                      & 0                       & 0                       & ⋯                       &  5.3                    & 1                       &  5.3                    & 17                      &  89.5                   & 2                       & 10.5                    & 181.6                   & 177.0                   & NaN                    \\\\\n",
       "\t 1015                    & JUVENILE DETENTION CTR. & Mathematics             & 2011                    & 1                       & 19                      & 0                       & 19                      & 0                       & 0                       & ⋯                       & 31.6                    & 2                       & 10.5                    & 11                      &  57.9                   & 8                       & 42.1                    & 197.2                   & 193.0                   & NaN                    \\\\\n",
       "\t 1015                    & JUVENILE DETENTION CTR. & Mathematics             & 2013                    & 1                       & 16                      & 0                       & 16                      & 0                       & 0                       & ⋯                       & 50.0                    & 0                       &  0.0                    &  8                      &  50.0                   & 8                       & 50.0                    & 197.3                   & 198.5                   & NaN                    \\\\\n",
       "\\end{tabular}\n"
      ],
      "text/plain": [
       "  SCHOOL_CODE_0001 SCHOOL_NAME             CONTENT_AREA       YEAR number\n",
       "1 1015             HILLTOP SCHOOL          Eng. Language Arts 2010 1     \n",
       "2 1015             JUVENILE DETENTION CTR. Eng. Language Arts 2010 1     \n",
       "3 1015             JUVENILE DETENTION CTR. Eng. Language Arts 2013 1     \n",
       "4 1015             JUVENILE DETENTION CTR. Mathematics        2010 1     \n",
       "5 1015             JUVENILE DETENTION CTR. Mathematics        2011 1     \n",
       "6 1015             JUVENILE DETENTION CTR. Mathematics        2013 1     \n",
       "  enrolled participant reported level_unknown level_unknown_pct ⋯\n",
       "1 11       0           11       0             0                 ⋯\n",
       "2 13       0           13       0             0                 ⋯\n",
       "3 12       0           12       0             0                 ⋯\n",
       "4 19       0           19       0             0                 ⋯\n",
       "5 19       0           19       0             0                 ⋯\n",
       "6 16       0           16       0             0                 ⋯\n",
       "  proficient_pct advanced advanced_pct bottom_two bottom_two_pct top_two\n",
       "1  0.0           0         0.0         11         100.0          0      \n",
       "2 38.5           0         0.0          8          61.5          5      \n",
       "3 58.3           2        16.7          3          25.0          9      \n",
       "4  5.3           1         5.3         17          89.5          2      \n",
       "5 31.6           2        10.5         11          57.9          8      \n",
       "6 50.0           0         0.0          8          50.0          8      \n",
       "  top_two_pct mean_scale_score median_scale_score median_terra\n",
       "1  0.0        652.5            659.0               27         \n",
       "2 38.5        196.8            197.0              NaN         \n",
       "3 75.0        202.7            200.0              NaN         \n",
       "4 10.5        181.6            177.0              NaN         \n",
       "5 42.1        197.2            193.0              NaN         \n",
       "6 50.0        197.3            198.5              NaN         "
      ]
     },
     "metadata": {},
     "output_type": "display_data"
    }
   ],
   "source": [
    "head(MO_data)"
   ]
  },
  {
   "cell_type": "markdown",
   "metadata": {},
   "source": [
    "Getting closer...  "
   ]
  },
  {
   "cell_type": "code",
   "execution_count": null,
   "metadata": {
    "collapsed": true
   },
   "outputs": [],
   "source": []
  }
 ],
 "metadata": {
  "anaconda-cloud": {},
  "kernelspec": {
   "display_name": "R",
   "language": "R",
   "name": "ir"
  },
  "language_info": {
   "codemirror_mode": "r",
   "file_extension": ".r",
   "mimetype": "text/x-r-source",
   "name": "R",
   "pygments_lexer": "r",
   "version": "3.3.1"
  }
 },
 "nbformat": 4,
 "nbformat_minor": 1
}
